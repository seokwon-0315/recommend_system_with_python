{
  "nbformat": 4,
  "nbformat_minor": 0,
  "metadata": {
    "colab": {
      "name": "Matrix_Factorization(ALS).ipynb",
      "provenance": [],
      "collapsed_sections": []
    },
    "kernelspec": {
      "name": "python3",
      "display_name": "Python 3"
    },
    "language_info": {
      "name": "python"
    },
    "accelerator": "GPU",
    "widgets": {
      "application/vnd.jupyter.widget-state+json": {
        "24e97ccaf92342508004dbdd12c3a3fe": {
          "model_module": "@jupyter-widgets/controls",
          "model_name": "HBoxModel",
          "state": {
            "_view_name": "HBoxView",
            "_dom_classes": [],
            "_model_name": "HBoxModel",
            "_view_module": "@jupyter-widgets/controls",
            "_model_module_version": "1.5.0",
            "_view_count": null,
            "_view_module_version": "1.5.0",
            "box_style": "",
            "layout": "IPY_MODEL_2e204514298d4824bb31cb4a18a6a3cf",
            "_model_module": "@jupyter-widgets/controls",
            "children": [
              "IPY_MODEL_67366cf8e2c9476b92803cd7b3af1549",
              "IPY_MODEL_1b2ae3fe54064be09e55309edf4ebe76"
            ]
          }
        },
        "2e204514298d4824bb31cb4a18a6a3cf": {
          "model_module": "@jupyter-widgets/base",
          "model_name": "LayoutModel",
          "state": {
            "_view_name": "LayoutView",
            "grid_template_rows": null,
            "right": null,
            "justify_content": null,
            "_view_module": "@jupyter-widgets/base",
            "overflow": null,
            "_model_module_version": "1.2.0",
            "_view_count": null,
            "flex_flow": null,
            "width": null,
            "min_width": null,
            "border": null,
            "align_items": null,
            "bottom": null,
            "_model_module": "@jupyter-widgets/base",
            "top": null,
            "grid_column": null,
            "overflow_y": null,
            "overflow_x": null,
            "grid_auto_flow": null,
            "grid_area": null,
            "grid_template_columns": null,
            "flex": null,
            "_model_name": "LayoutModel",
            "justify_items": null,
            "grid_row": null,
            "max_height": null,
            "align_content": null,
            "visibility": null,
            "align_self": null,
            "height": null,
            "min_height": null,
            "padding": null,
            "grid_auto_rows": null,
            "grid_gap": null,
            "max_width": null,
            "order": null,
            "_view_module_version": "1.2.0",
            "grid_template_areas": null,
            "object_position": null,
            "object_fit": null,
            "grid_auto_columns": null,
            "margin": null,
            "display": null,
            "left": null
          }
        },
        "67366cf8e2c9476b92803cd7b3af1549": {
          "model_module": "@jupyter-widgets/controls",
          "model_name": "FloatProgressModel",
          "state": {
            "_view_name": "ProgressView",
            "style": "IPY_MODEL_59b182e36f504fba80c695f3df4472e8",
            "_dom_classes": [],
            "description": "100%",
            "_model_name": "FloatProgressModel",
            "bar_style": "success",
            "max": 100,
            "_view_module": "@jupyter-widgets/controls",
            "_model_module_version": "1.5.0",
            "value": 100,
            "_view_count": null,
            "_view_module_version": "1.5.0",
            "orientation": "horizontal",
            "min": 0,
            "description_tooltip": null,
            "_model_module": "@jupyter-widgets/controls",
            "layout": "IPY_MODEL_29a2da92c4f94d4fa1d8f3f3e91373f5"
          }
        },
        "1b2ae3fe54064be09e55309edf4ebe76": {
          "model_module": "@jupyter-widgets/controls",
          "model_name": "HTMLModel",
          "state": {
            "_view_name": "HTMLView",
            "style": "IPY_MODEL_2444cb6ab6904da7bfc0686e82753628",
            "_dom_classes": [],
            "description": "",
            "_model_name": "HTMLModel",
            "placeholder": "​",
            "_view_module": "@jupyter-widgets/controls",
            "_model_module_version": "1.5.0",
            "value": " 100/100 [00:35&lt;00:00,  2.83it/s]",
            "_view_count": null,
            "_view_module_version": "1.5.0",
            "description_tooltip": null,
            "_model_module": "@jupyter-widgets/controls",
            "layout": "IPY_MODEL_5b7d8904f0404cd8a48cfca72ad6815b"
          }
        },
        "59b182e36f504fba80c695f3df4472e8": {
          "model_module": "@jupyter-widgets/controls",
          "model_name": "ProgressStyleModel",
          "state": {
            "_view_name": "StyleView",
            "_model_name": "ProgressStyleModel",
            "description_width": "initial",
            "_view_module": "@jupyter-widgets/base",
            "_model_module_version": "1.5.0",
            "_view_count": null,
            "_view_module_version": "1.2.0",
            "bar_color": null,
            "_model_module": "@jupyter-widgets/controls"
          }
        },
        "29a2da92c4f94d4fa1d8f3f3e91373f5": {
          "model_module": "@jupyter-widgets/base",
          "model_name": "LayoutModel",
          "state": {
            "_view_name": "LayoutView",
            "grid_template_rows": null,
            "right": null,
            "justify_content": null,
            "_view_module": "@jupyter-widgets/base",
            "overflow": null,
            "_model_module_version": "1.2.0",
            "_view_count": null,
            "flex_flow": null,
            "width": null,
            "min_width": null,
            "border": null,
            "align_items": null,
            "bottom": null,
            "_model_module": "@jupyter-widgets/base",
            "top": null,
            "grid_column": null,
            "overflow_y": null,
            "overflow_x": null,
            "grid_auto_flow": null,
            "grid_area": null,
            "grid_template_columns": null,
            "flex": null,
            "_model_name": "LayoutModel",
            "justify_items": null,
            "grid_row": null,
            "max_height": null,
            "align_content": null,
            "visibility": null,
            "align_self": null,
            "height": null,
            "min_height": null,
            "padding": null,
            "grid_auto_rows": null,
            "grid_gap": null,
            "max_width": null,
            "order": null,
            "_view_module_version": "1.2.0",
            "grid_template_areas": null,
            "object_position": null,
            "object_fit": null,
            "grid_auto_columns": null,
            "margin": null,
            "display": null,
            "left": null
          }
        },
        "2444cb6ab6904da7bfc0686e82753628": {
          "model_module": "@jupyter-widgets/controls",
          "model_name": "DescriptionStyleModel",
          "state": {
            "_view_name": "StyleView",
            "_model_name": "DescriptionStyleModel",
            "description_width": "",
            "_view_module": "@jupyter-widgets/base",
            "_model_module_version": "1.5.0",
            "_view_count": null,
            "_view_module_version": "1.2.0",
            "_model_module": "@jupyter-widgets/controls"
          }
        },
        "5b7d8904f0404cd8a48cfca72ad6815b": {
          "model_module": "@jupyter-widgets/base",
          "model_name": "LayoutModel",
          "state": {
            "_view_name": "LayoutView",
            "grid_template_rows": null,
            "right": null,
            "justify_content": null,
            "_view_module": "@jupyter-widgets/base",
            "overflow": null,
            "_model_module_version": "1.2.0",
            "_view_count": null,
            "flex_flow": null,
            "width": null,
            "min_width": null,
            "border": null,
            "align_items": null,
            "bottom": null,
            "_model_module": "@jupyter-widgets/base",
            "top": null,
            "grid_column": null,
            "overflow_y": null,
            "overflow_x": null,
            "grid_auto_flow": null,
            "grid_area": null,
            "grid_template_columns": null,
            "flex": null,
            "_model_name": "LayoutModel",
            "justify_items": null,
            "grid_row": null,
            "max_height": null,
            "align_content": null,
            "visibility": null,
            "align_self": null,
            "height": null,
            "min_height": null,
            "padding": null,
            "grid_auto_rows": null,
            "grid_gap": null,
            "max_width": null,
            "order": null,
            "_view_module_version": "1.2.0",
            "grid_template_areas": null,
            "object_position": null,
            "object_fit": null,
            "grid_auto_columns": null,
            "margin": null,
            "display": null,
            "left": null
          }
        },
        "3277e4677bb2416ea0fd2552315fad7a": {
          "model_module": "@jupyter-widgets/controls",
          "model_name": "HBoxModel",
          "state": {
            "_view_name": "HBoxView",
            "_dom_classes": [],
            "_model_name": "HBoxModel",
            "_view_module": "@jupyter-widgets/controls",
            "_model_module_version": "1.5.0",
            "_view_count": null,
            "_view_module_version": "1.5.0",
            "box_style": "",
            "layout": "IPY_MODEL_7e511b6264534cbcba6af9b4470e9625",
            "_model_module": "@jupyter-widgets/controls",
            "children": [
              "IPY_MODEL_5a83b44297a04a94adfd7feb4aebfb75",
              "IPY_MODEL_6b71b0a513064e23a553c3f3c8e745de"
            ]
          }
        },
        "7e511b6264534cbcba6af9b4470e9625": {
          "model_module": "@jupyter-widgets/base",
          "model_name": "LayoutModel",
          "state": {
            "_view_name": "LayoutView",
            "grid_template_rows": null,
            "right": null,
            "justify_content": null,
            "_view_module": "@jupyter-widgets/base",
            "overflow": null,
            "_model_module_version": "1.2.0",
            "_view_count": null,
            "flex_flow": null,
            "width": null,
            "min_width": null,
            "border": null,
            "align_items": null,
            "bottom": null,
            "_model_module": "@jupyter-widgets/base",
            "top": null,
            "grid_column": null,
            "overflow_y": null,
            "overflow_x": null,
            "grid_auto_flow": null,
            "grid_area": null,
            "grid_template_columns": null,
            "flex": null,
            "_model_name": "LayoutModel",
            "justify_items": null,
            "grid_row": null,
            "max_height": null,
            "align_content": null,
            "visibility": null,
            "align_self": null,
            "height": null,
            "min_height": null,
            "padding": null,
            "grid_auto_rows": null,
            "grid_gap": null,
            "max_width": null,
            "order": null,
            "_view_module_version": "1.2.0",
            "grid_template_areas": null,
            "object_position": null,
            "object_fit": null,
            "grid_auto_columns": null,
            "margin": null,
            "display": null,
            "left": null
          }
        },
        "5a83b44297a04a94adfd7feb4aebfb75": {
          "model_module": "@jupyter-widgets/controls",
          "model_name": "FloatProgressModel",
          "state": {
            "_view_name": "ProgressView",
            "style": "IPY_MODEL_a6dd5e6a70114b47be0600df7b243763",
            "_dom_classes": [],
            "description": "100%",
            "_model_name": "FloatProgressModel",
            "bar_style": "success",
            "max": 5854,
            "_view_module": "@jupyter-widgets/controls",
            "_model_module_version": "1.5.0",
            "value": 5854,
            "_view_count": null,
            "_view_module_version": "1.5.0",
            "orientation": "horizontal",
            "min": 0,
            "description_tooltip": null,
            "_model_module": "@jupyter-widgets/controls",
            "layout": "IPY_MODEL_0cf53af5c18f4d34a3132253b90bae78"
          }
        },
        "6b71b0a513064e23a553c3f3c8e745de": {
          "model_module": "@jupyter-widgets/controls",
          "model_name": "HTMLModel",
          "state": {
            "_view_name": "HTMLView",
            "style": "IPY_MODEL_0f53d6e36cc14f1983a1b2e453950f66",
            "_dom_classes": [],
            "description": "",
            "_model_name": "HTMLModel",
            "placeholder": "​",
            "_view_module": "@jupyter-widgets/controls",
            "_model_module_version": "1.5.0",
            "value": " 5854/5854 [00:59&lt;00:00, 97.61it/s]",
            "_view_count": null,
            "_view_module_version": "1.5.0",
            "description_tooltip": null,
            "_model_module": "@jupyter-widgets/controls",
            "layout": "IPY_MODEL_2db7b7a16dfb4dc6b431553e568f1324"
          }
        },
        "a6dd5e6a70114b47be0600df7b243763": {
          "model_module": "@jupyter-widgets/controls",
          "model_name": "ProgressStyleModel",
          "state": {
            "_view_name": "StyleView",
            "_model_name": "ProgressStyleModel",
            "description_width": "initial",
            "_view_module": "@jupyter-widgets/base",
            "_model_module_version": "1.5.0",
            "_view_count": null,
            "_view_module_version": "1.2.0",
            "bar_color": null,
            "_model_module": "@jupyter-widgets/controls"
          }
        },
        "0cf53af5c18f4d34a3132253b90bae78": {
          "model_module": "@jupyter-widgets/base",
          "model_name": "LayoutModel",
          "state": {
            "_view_name": "LayoutView",
            "grid_template_rows": null,
            "right": null,
            "justify_content": null,
            "_view_module": "@jupyter-widgets/base",
            "overflow": null,
            "_model_module_version": "1.2.0",
            "_view_count": null,
            "flex_flow": null,
            "width": null,
            "min_width": null,
            "border": null,
            "align_items": null,
            "bottom": null,
            "_model_module": "@jupyter-widgets/base",
            "top": null,
            "grid_column": null,
            "overflow_y": null,
            "overflow_x": null,
            "grid_auto_flow": null,
            "grid_area": null,
            "grid_template_columns": null,
            "flex": null,
            "_model_name": "LayoutModel",
            "justify_items": null,
            "grid_row": null,
            "max_height": null,
            "align_content": null,
            "visibility": null,
            "align_self": null,
            "height": null,
            "min_height": null,
            "padding": null,
            "grid_auto_rows": null,
            "grid_gap": null,
            "max_width": null,
            "order": null,
            "_view_module_version": "1.2.0",
            "grid_template_areas": null,
            "object_position": null,
            "object_fit": null,
            "grid_auto_columns": null,
            "margin": null,
            "display": null,
            "left": null
          }
        },
        "0f53d6e36cc14f1983a1b2e453950f66": {
          "model_module": "@jupyter-widgets/controls",
          "model_name": "DescriptionStyleModel",
          "state": {
            "_view_name": "StyleView",
            "_model_name": "DescriptionStyleModel",
            "description_width": "",
            "_view_module": "@jupyter-widgets/base",
            "_model_module_version": "1.5.0",
            "_view_count": null,
            "_view_module_version": "1.2.0",
            "_model_module": "@jupyter-widgets/controls"
          }
        },
        "2db7b7a16dfb4dc6b431553e568f1324": {
          "model_module": "@jupyter-widgets/base",
          "model_name": "LayoutModel",
          "state": {
            "_view_name": "LayoutView",
            "grid_template_rows": null,
            "right": null,
            "justify_content": null,
            "_view_module": "@jupyter-widgets/base",
            "overflow": null,
            "_model_module_version": "1.2.0",
            "_view_count": null,
            "flex_flow": null,
            "width": null,
            "min_width": null,
            "border": null,
            "align_items": null,
            "bottom": null,
            "_model_module": "@jupyter-widgets/base",
            "top": null,
            "grid_column": null,
            "overflow_y": null,
            "overflow_x": null,
            "grid_auto_flow": null,
            "grid_area": null,
            "grid_template_columns": null,
            "flex": null,
            "_model_name": "LayoutModel",
            "justify_items": null,
            "grid_row": null,
            "max_height": null,
            "align_content": null,
            "visibility": null,
            "align_self": null,
            "height": null,
            "min_height": null,
            "padding": null,
            "grid_auto_rows": null,
            "grid_gap": null,
            "max_width": null,
            "order": null,
            "_view_module_version": "1.2.0",
            "grid_template_areas": null,
            "object_position": null,
            "object_fit": null,
            "grid_auto_columns": null,
            "margin": null,
            "display": null,
            "left": null
          }
        }
      }
    }
  },
  "cells": [
    {
      "cell_type": "markdown",
      "metadata": {
        "id": "hZRXkBSJ0-zV"
      },
      "source": [
        "# Load library"
      ]
    },
    {
      "cell_type": "code",
      "metadata": {
        "colab": {
          "base_uri": "https://localhost:8080/"
        },
        "id": "DMCqZrOlpRBM",
        "outputId": "d7c429f5-fd43-40d3-c963-34f55fef824f"
      },
      "source": [
        "pip install implicit"
      ],
      "execution_count": 2,
      "outputs": [
        {
          "output_type": "stream",
          "text": [
            "Collecting implicit\n",
            "\u001b[?25l  Downloading https://files.pythonhosted.org/packages/bc/07/c0121884722d16e2c5beeb815f6b84b41cbf22e738e4075f1475be2791bc/implicit-0.4.4.tar.gz (1.1MB)\n",
            "\r\u001b[K     |▎                               | 10kB 24.0MB/s eta 0:00:01\r\u001b[K     |▋                               | 20kB 30.3MB/s eta 0:00:01\r\u001b[K     |▉                               | 30kB 20.7MB/s eta 0:00:01\r\u001b[K     |█▏                              | 40kB 24.2MB/s eta 0:00:01\r\u001b[K     |█▌                              | 51kB 23.5MB/s eta 0:00:01\r\u001b[K     |█▊                              | 61kB 26.2MB/s eta 0:00:01\r\u001b[K     |██                              | 71kB 17.2MB/s eta 0:00:01\r\u001b[K     |██▍                             | 81kB 18.2MB/s eta 0:00:01\r\u001b[K     |██▋                             | 92kB 17.2MB/s eta 0:00:01\r\u001b[K     |███                             | 102kB 17.3MB/s eta 0:00:01\r\u001b[K     |███▎                            | 112kB 17.3MB/s eta 0:00:01\r\u001b[K     |███▌                            | 122kB 17.3MB/s eta 0:00:01\r\u001b[K     |███▉                            | 133kB 17.3MB/s eta 0:00:01\r\u001b[K     |████▏                           | 143kB 17.3MB/s eta 0:00:01\r\u001b[K     |████▍                           | 153kB 17.3MB/s eta 0:00:01\r\u001b[K     |████▊                           | 163kB 17.3MB/s eta 0:00:01\r\u001b[K     |█████                           | 174kB 17.3MB/s eta 0:00:01\r\u001b[K     |█████▎                          | 184kB 17.3MB/s eta 0:00:01\r\u001b[K     |█████▋                          | 194kB 17.3MB/s eta 0:00:01\r\u001b[K     |██████                          | 204kB 17.3MB/s eta 0:00:01\r\u001b[K     |██████▏                         | 215kB 17.3MB/s eta 0:00:01\r\u001b[K     |██████▌                         | 225kB 17.3MB/s eta 0:00:01\r\u001b[K     |██████▉                         | 235kB 17.3MB/s eta 0:00:01\r\u001b[K     |███████                         | 245kB 17.3MB/s eta 0:00:01\r\u001b[K     |███████▍                        | 256kB 17.3MB/s eta 0:00:01\r\u001b[K     |███████▊                        | 266kB 17.3MB/s eta 0:00:01\r\u001b[K     |████████                        | 276kB 17.3MB/s eta 0:00:01\r\u001b[K     |████████▎                       | 286kB 17.3MB/s eta 0:00:01\r\u001b[K     |████████▋                       | 296kB 17.3MB/s eta 0:00:01\r\u001b[K     |████████▉                       | 307kB 17.3MB/s eta 0:00:01\r\u001b[K     |█████████▏                      | 317kB 17.3MB/s eta 0:00:01\r\u001b[K     |█████████▌                      | 327kB 17.3MB/s eta 0:00:01\r\u001b[K     |█████████▊                      | 337kB 17.3MB/s eta 0:00:01\r\u001b[K     |██████████                      | 348kB 17.3MB/s eta 0:00:01\r\u001b[K     |██████████▍                     | 358kB 17.3MB/s eta 0:00:01\r\u001b[K     |██████████▋                     | 368kB 17.3MB/s eta 0:00:01\r\u001b[K     |███████████                     | 378kB 17.3MB/s eta 0:00:01\r\u001b[K     |███████████▏                    | 389kB 17.3MB/s eta 0:00:01\r\u001b[K     |███████████▌                    | 399kB 17.3MB/s eta 0:00:01\r\u001b[K     |███████████▉                    | 409kB 17.3MB/s eta 0:00:01\r\u001b[K     |████████████                    | 419kB 17.3MB/s eta 0:00:01\r\u001b[K     |████████████▍                   | 430kB 17.3MB/s eta 0:00:01\r\u001b[K     |████████████▊                   | 440kB 17.3MB/s eta 0:00:01\r\u001b[K     |█████████████                   | 450kB 17.3MB/s eta 0:00:01\r\u001b[K     |█████████████▎                  | 460kB 17.3MB/s eta 0:00:01\r\u001b[K     |█████████████▋                  | 471kB 17.3MB/s eta 0:00:01\r\u001b[K     |█████████████▉                  | 481kB 17.3MB/s eta 0:00:01\r\u001b[K     |██████████████▏                 | 491kB 17.3MB/s eta 0:00:01\r\u001b[K     |██████████████▌                 | 501kB 17.3MB/s eta 0:00:01\r\u001b[K     |██████████████▊                 | 512kB 17.3MB/s eta 0:00:01\r\u001b[K     |███████████████                 | 522kB 17.3MB/s eta 0:00:01\r\u001b[K     |███████████████▍                | 532kB 17.3MB/s eta 0:00:01\r\u001b[K     |███████████████▋                | 542kB 17.3MB/s eta 0:00:01\r\u001b[K     |████████████████                | 552kB 17.3MB/s eta 0:00:01\r\u001b[K     |████████████████▎               | 563kB 17.3MB/s eta 0:00:01\r\u001b[K     |████████████████▌               | 573kB 17.3MB/s eta 0:00:01\r\u001b[K     |████████████████▉               | 583kB 17.3MB/s eta 0:00:01\r\u001b[K     |█████████████████▏              | 593kB 17.3MB/s eta 0:00:01\r\u001b[K     |█████████████████▍              | 604kB 17.3MB/s eta 0:00:01\r\u001b[K     |█████████████████▊              | 614kB 17.3MB/s eta 0:00:01\r\u001b[K     |██████████████████              | 624kB 17.3MB/s eta 0:00:01\r\u001b[K     |██████████████████▎             | 634kB 17.3MB/s eta 0:00:01\r\u001b[K     |██████████████████▋             | 645kB 17.3MB/s eta 0:00:01\r\u001b[K     |███████████████████             | 655kB 17.3MB/s eta 0:00:01\r\u001b[K     |███████████████████▏            | 665kB 17.3MB/s eta 0:00:01\r\u001b[K     |███████████████████▌            | 675kB 17.3MB/s eta 0:00:01\r\u001b[K     |███████████████████▉            | 686kB 17.3MB/s eta 0:00:01\r\u001b[K     |████████████████████            | 696kB 17.3MB/s eta 0:00:01\r\u001b[K     |████████████████████▍           | 706kB 17.3MB/s eta 0:00:01\r\u001b[K     |████████████████████▊           | 716kB 17.3MB/s eta 0:00:01\r\u001b[K     |█████████████████████           | 727kB 17.3MB/s eta 0:00:01\r\u001b[K     |█████████████████████▎          | 737kB 17.3MB/s eta 0:00:01\r\u001b[K     |█████████████████████▋          | 747kB 17.3MB/s eta 0:00:01\r\u001b[K     |█████████████████████▉          | 757kB 17.3MB/s eta 0:00:01\r\u001b[K     |██████████████████████▏         | 768kB 17.3MB/s eta 0:00:01\r\u001b[K     |██████████████████████▍         | 778kB 17.3MB/s eta 0:00:01\r\u001b[K     |██████████████████████▊         | 788kB 17.3MB/s eta 0:00:01\r\u001b[K     |███████████████████████         | 798kB 17.3MB/s eta 0:00:01\r\u001b[K     |███████████████████████▎        | 808kB 17.3MB/s eta 0:00:01\r\u001b[K     |███████████████████████▋        | 819kB 17.3MB/s eta 0:00:01\r\u001b[K     |████████████████████████        | 829kB 17.3MB/s eta 0:00:01\r\u001b[K     |████████████████████████▏       | 839kB 17.3MB/s eta 0:00:01\r\u001b[K     |████████████████████████▌       | 849kB 17.3MB/s eta 0:00:01\r\u001b[K     |████████████████████████▉       | 860kB 17.3MB/s eta 0:00:01\r\u001b[K     |█████████████████████████       | 870kB 17.3MB/s eta 0:00:01\r\u001b[K     |█████████████████████████▍      | 880kB 17.3MB/s eta 0:00:01\r\u001b[K     |█████████████████████████▊      | 890kB 17.3MB/s eta 0:00:01\r\u001b[K     |██████████████████████████      | 901kB 17.3MB/s eta 0:00:01\r\u001b[K     |██████████████████████████▎     | 911kB 17.3MB/s eta 0:00:01\r\u001b[K     |██████████████████████████▋     | 921kB 17.3MB/s eta 0:00:01\r\u001b[K     |██████████████████████████▉     | 931kB 17.3MB/s eta 0:00:01\r\u001b[K     |███████████████████████████▏    | 942kB 17.3MB/s eta 0:00:01\r\u001b[K     |███████████████████████████▌    | 952kB 17.3MB/s eta 0:00:01\r\u001b[K     |███████████████████████████▊    | 962kB 17.3MB/s eta 0:00:01\r\u001b[K     |████████████████████████████    | 972kB 17.3MB/s eta 0:00:01\r\u001b[K     |████████████████████████████▍   | 983kB 17.3MB/s eta 0:00:01\r\u001b[K     |████████████████████████████▋   | 993kB 17.3MB/s eta 0:00:01\r\u001b[K     |█████████████████████████████   | 1.0MB 17.3MB/s eta 0:00:01\r\u001b[K     |█████████████████████████████▎  | 1.0MB 17.3MB/s eta 0:00:01\r\u001b[K     |█████████████████████████████▌  | 1.0MB 17.3MB/s eta 0:00:01\r\u001b[K     |█████████████████████████████▉  | 1.0MB 17.3MB/s eta 0:00:01\r\u001b[K     |██████████████████████████████▏ | 1.0MB 17.3MB/s eta 0:00:01\r\u001b[K     |██████████████████████████████▍ | 1.1MB 17.3MB/s eta 0:00:01\r\u001b[K     |██████████████████████████████▊ | 1.1MB 17.3MB/s eta 0:00:01\r\u001b[K     |███████████████████████████████ | 1.1MB 17.3MB/s eta 0:00:01\r\u001b[K     |███████████████████████████████▎| 1.1MB 17.3MB/s eta 0:00:01\r\u001b[K     |███████████████████████████████▋| 1.1MB 17.3MB/s eta 0:00:01\r\u001b[K     |████████████████████████████████| 1.1MB 17.3MB/s eta 0:00:01\r\u001b[K     |████████████████████████████████| 1.1MB 17.3MB/s \n",
            "\u001b[?25hRequirement already satisfied: numpy in /usr/local/lib/python3.7/dist-packages (from implicit) (1.19.5)\n",
            "Requirement already satisfied: scipy>=0.16 in /usr/local/lib/python3.7/dist-packages (from implicit) (1.4.1)\n",
            "Requirement already satisfied: tqdm>=4.27 in /usr/local/lib/python3.7/dist-packages (from implicit) (4.41.1)\n",
            "Building wheels for collected packages: implicit\n",
            "  Building wheel for implicit (setup.py) ... \u001b[?25l\u001b[?25hdone\n",
            "  Created wheel for implicit: filename=implicit-0.4.4-cp37-cp37m-linux_x86_64.whl size=3406334 sha256=b3f4246e53e8236124882bded22ce18d5d52ae416b667a21ed264c8ddc70a960\n",
            "  Stored in directory: /root/.cache/pip/wheels/bf/d4/ec/fd4f622fcbefb7521f149905295b2c26adecb23af38aa28217\n",
            "Successfully built implicit\n",
            "Installing collected packages: implicit\n",
            "Successfully installed implicit-0.4.4\n"
          ],
          "name": "stdout"
        }
      ]
    },
    {
      "cell_type": "code",
      "metadata": {
        "id": "kkw5f9joC0yL"
      },
      "source": [
        "import pandas as pd\n",
        "import numpy as np\n",
        "import scipy \n",
        "import warnings\n",
        "from tqdm.notebook import tqdm\n",
        "import plotnine\n",
        "from implicit.evaluation import  *\n",
        "from implicit.als import AlternatingLeastSquares as ALS\n",
        "\n",
        "warnings.filterwarnings('ignore')"
      ],
      "execution_count": 3,
      "outputs": []
    },
    {
      "cell_type": "markdown",
      "metadata": {
        "id": "AcRPdd3X1E_I"
      },
      "source": [
        "# Load Data"
      ]
    },
    {
      "cell_type": "code",
      "metadata": {
        "id": "hMn9gHNpo5ok"
      },
      "source": [
        "data = pd.read_csv('input_data.csv')"
      ],
      "execution_count": 5,
      "outputs": []
    },
    {
      "cell_type": "code",
      "metadata": {
        "colab": {
          "base_uri": "https://localhost:8080/",
          "height": 204
        },
        "id": "mIqYDbRmpaBG",
        "outputId": "3ea66a23-b379-49e5-94fd-c87bf6d45df6"
      },
      "source": [
        "data.head()"
      ],
      "execution_count": 6,
      "outputs": [
        {
          "output_type": "execute_result",
          "data": {
            "text/html": [
              "<div>\n",
              "<style scoped>\n",
              "    .dataframe tbody tr th:only-of-type {\n",
              "        vertical-align: middle;\n",
              "    }\n",
              "\n",
              "    .dataframe tbody tr th {\n",
              "        vertical-align: top;\n",
              "    }\n",
              "\n",
              "    .dataframe thead th {\n",
              "        text-align: right;\n",
              "    }\n",
              "</style>\n",
              "<table border=\"1\" class=\"dataframe\">\n",
              "  <thead>\n",
              "    <tr style=\"text-align: right;\">\n",
              "      <th></th>\n",
              "      <th>emp_no</th>\n",
              "      <th>course_cd</th>\n",
              "      <th>date</th>\n",
              "      <th>code</th>\n",
              "      <th>study_type</th>\n",
              "      <th>course_host</th>\n",
              "      <th>emp_nm</th>\n",
              "      <th>title_nm</th>\n",
              "      <th>jc_nm</th>\n",
              "      <th>org_lvl4_nm</th>\n",
              "      <th>org_lvl2_nm</th>\n",
              "      <th>job_grp_nm</th>\n",
              "      <th>course_nm</th>\n",
              "      <th>category</th>\n",
              "    </tr>\n",
              "  </thead>\n",
              "  <tbody>\n",
              "    <tr>\n",
              "      <th>0</th>\n",
              "      <td>12528</td>\n",
              "      <td>50023796</td>\n",
              "      <td>2018-03-29</td>\n",
              "      <td>3_taken</td>\n",
              "      <td>Off</td>\n",
              "      <td>Internal</td>\n",
              "      <td>장병국</td>\n",
              "      <td>책임</td>\n",
              "      <td>Business Engineering</td>\n",
              "      <td>사업지원팀</td>\n",
              "      <td>개발혁신센터</td>\n",
              "      <td>Business Engineering</td>\n",
              "      <td>CE기본/심화통합</td>\n",
              "      <td>00002329</td>\n",
              "    </tr>\n",
              "    <tr>\n",
              "      <th>1</th>\n",
              "      <td>12528</td>\n",
              "      <td>50023886</td>\n",
              "      <td>2018-02-21</td>\n",
              "      <td>3_taken</td>\n",
              "      <td>On</td>\n",
              "      <td>Internal</td>\n",
              "      <td>장병국</td>\n",
              "      <td>책임</td>\n",
              "      <td>Business Engineering</td>\n",
              "      <td>사업지원팀</td>\n",
              "      <td>개발혁신센터</td>\n",
              "      <td>Business Engineering</td>\n",
              "      <td>[교재보기]CE기본</td>\n",
              "      <td>00002329</td>\n",
              "    </tr>\n",
              "    <tr>\n",
              "      <th>2</th>\n",
              "      <td>12632</td>\n",
              "      <td>50023893</td>\n",
              "      <td>2019-08-12</td>\n",
              "      <td>3_taken</td>\n",
              "      <td>On</td>\n",
              "      <td>Internal</td>\n",
              "      <td>송기황</td>\n",
              "      <td>책임</td>\n",
              "      <td>Infra Architecture</td>\n",
              "      <td>Enterprise TA팀</td>\n",
              "      <td>아키텍처담당</td>\n",
              "      <td>IT Professional</td>\n",
              "      <td>[이러닝]AI빅데이터 기본_R활용 기본</td>\n",
              "      <td>00002355</td>\n",
              "    </tr>\n",
              "    <tr>\n",
              "      <th>3</th>\n",
              "      <td>12632</td>\n",
              "      <td>50023894</td>\n",
              "      <td>2019-03-17</td>\n",
              "      <td>3_taken</td>\n",
              "      <td>On</td>\n",
              "      <td>Internal</td>\n",
              "      <td>송기황</td>\n",
              "      <td>책임</td>\n",
              "      <td>Infra Architecture</td>\n",
              "      <td>Enterprise TA팀</td>\n",
              "      <td>아키텍처담당</td>\n",
              "      <td>IT Professional</td>\n",
              "      <td>[이러닝]AI빅데이터 기본_통계분석 기본</td>\n",
              "      <td>00002355</td>\n",
              "    </tr>\n",
              "    <tr>\n",
              "      <th>4</th>\n",
              "      <td>12632</td>\n",
              "      <td>50023895</td>\n",
              "      <td>2019-03-17</td>\n",
              "      <td>3_taken</td>\n",
              "      <td>On</td>\n",
              "      <td>Internal</td>\n",
              "      <td>송기황</td>\n",
              "      <td>책임</td>\n",
              "      <td>Infra Architecture</td>\n",
              "      <td>Enterprise TA팀</td>\n",
              "      <td>아키텍처담당</td>\n",
              "      <td>IT Professional</td>\n",
              "      <td>[이러닝]AI빅데이터 기본_머신러닝 기본</td>\n",
              "      <td>00002355</td>\n",
              "    </tr>\n",
              "  </tbody>\n",
              "</table>\n",
              "</div>"
            ],
            "text/plain": [
              "   emp_no course_cd  ...               course_nm  category\n",
              "0   12528  50023796  ...               CE기본/심화통합  00002329\n",
              "1   12528  50023886  ...              [교재보기]CE기본  00002329\n",
              "2   12632  50023893  ...   [이러닝]AI빅데이터 기본_R활용 기본  00002355\n",
              "3   12632  50023894  ...  [이러닝]AI빅데이터 기본_통계분석 기본  00002355\n",
              "4   12632  50023895  ...  [이러닝]AI빅데이터 기본_머신러닝 기본  00002355\n",
              "\n",
              "[5 rows x 14 columns]"
            ]
          },
          "metadata": {
            "tags": []
          },
          "execution_count": 6
        }
      ]
    },
    {
      "cell_type": "code",
      "metadata": {
        "colab": {
          "base_uri": "https://localhost:8080/"
        },
        "id": "dK7NiHdKqDt9",
        "outputId": "e4551a54-ea2a-44a9-f1a6-3d2dc49c0a1d"
      },
      "source": [
        "# unique한 user, 강의 수\n",
        "# course_cd와 course_nm의 개수가 다름 -> 같은 강의명이어도 내부/외부 강의 여부에 따라 course_cd가 다름\n",
        "# 일단 course_cd로 구분\n",
        "print(data['emp_no'].nunique())\n",
        "print(data['course_cd'].nunique())\n",
        "print(data['course_nm'].nunique())"
      ],
      "execution_count": 7,
      "outputs": [
        {
          "output_type": "stream",
          "text": [
            "5854\n",
            "1559\n",
            "1556\n"
          ],
          "name": "stdout"
        }
      ]
    },
    {
      "cell_type": "code",
      "metadata": {
        "colab": {
          "base_uri": "https://localhost:8080/",
          "height": 142
        },
        "id": "tlGKQgEQqa9M",
        "outputId": "79cded71-ff3f-43d6-fb82-b42fc065b1c1"
      },
      "source": [
        "# 동일한 course_nm인데 course_cd가 다른 강의\n",
        "tmp = data.groupby(['course_nm'])['course_cd'].agg({'nunique','unique'}).reset_index().sort_values(['nunique'],ascending=False)\n",
        "tmp.query(\"nunique != 1\")"
      ],
      "execution_count": 56,
      "outputs": [
        {
          "output_type": "execute_result",
          "data": {
            "text/html": [
              "<div>\n",
              "<style scoped>\n",
              "    .dataframe tbody tr th:only-of-type {\n",
              "        vertical-align: middle;\n",
              "    }\n",
              "\n",
              "    .dataframe tbody tr th {\n",
              "        vertical-align: top;\n",
              "    }\n",
              "\n",
              "    .dataframe thead th {\n",
              "        text-align: right;\n",
              "    }\n",
              "</style>\n",
              "<table border=\"1\" class=\"dataframe\">\n",
              "  <thead>\n",
              "    <tr style=\"text-align: right;\">\n",
              "      <th></th>\n",
              "      <th>course_nm</th>\n",
              "      <th>unique</th>\n",
              "      <th>nunique</th>\n",
              "    </tr>\n",
              "  </thead>\n",
              "  <tbody>\n",
              "    <tr>\n",
              "      <th>1169</th>\n",
              "      <td>업무효율이 향상되는 엑셀 함수와 매크로(2013)</td>\n",
              "      <td>[50023975, HLSP22892]</td>\n",
              "      <td>2</td>\n",
              "    </tr>\n",
              "    <tr>\n",
              "      <th>1285</th>\n",
              "      <td>자바 프로그래밍 입문 강좌 (renew ver.) - 초보부터 개발자 취업까지!!</td>\n",
              "      <td>[20200228000039, 182835]</td>\n",
              "      <td>2</td>\n",
              "    </tr>\n",
              "    <tr>\n",
              "      <th>516</th>\n",
              "      <td>[논어] 시대를 넘어 참 인간을 논하다</td>\n",
              "      <td>[50021762, HLSP24064]</td>\n",
              "      <td>2</td>\n",
              "    </tr>\n",
              "  </tbody>\n",
              "</table>\n",
              "</div>"
            ],
            "text/plain": [
              "                                          course_nm  ... nunique\n",
              "1169                    업무효율이 향상되는 엑셀 함수와 매크로(2013)  ...       2\n",
              "1285  자바 프로그래밍 입문 강좌 (renew ver.) - 초보부터 개발자 취업까지!!  ...       2\n",
              "516                           [논어] 시대를 넘어 참 인간을 논하다  ...       2\n",
              "\n",
              "[3 rows x 3 columns]"
            ]
          },
          "metadata": {
            "tags": []
          },
          "execution_count": 56
        }
      ]
    },
    {
      "cell_type": "code",
      "metadata": {
        "id": "B4bexMzpsj4M"
      },
      "source": [
        "user2idx = {}\n",
        "for i, l in enumerate(data['emp_no'].unique()):\n",
        "    user2idx[l] = i\n",
        "    \n",
        "course2idx = {}\n",
        "for i, l in enumerate(data['course_cd'].unique()):\n",
        "    course2idx[l] = i"
      ],
      "execution_count": 9,
      "outputs": []
    },
    {
      "cell_type": "code",
      "metadata": {
        "id": "mhCPFWljs8wB"
      },
      "source": [
        "idx2user = {i: user for user, i in user2idx.items()}\n",
        "idx2course = {i: item for item, i in course2idx.items()}"
      ],
      "execution_count": 10,
      "outputs": []
    },
    {
      "cell_type": "code",
      "metadata": {
        "id": "YQYxNlnUtSSI"
      },
      "source": [
        "sub_data = data[['emp_no', 'course_cd']].reset_index(drop=True)\n",
        "useridx = sub_data['useridx'] = data['emp_no'].apply(lambda x: user2idx[x]).values\n",
        "courseidx = sub_data['courseidx'] = data['course_cd'].apply(lambda x: course2idx[x]).values\n",
        "rating = np.ones(len(sub_data))"
      ],
      "execution_count": 11,
      "outputs": []
    },
    {
      "cell_type": "code",
      "metadata": {
        "colab": {
          "base_uri": "https://localhost:8080/"
        },
        "id": "N8WFHIGHtD3y",
        "outputId": "43c8bde8-9f38-45f1-a522-d6f7e0d76fb2"
      },
      "source": [
        "sparse_matrix = scipy.sparse.csr_matrix((rating, (useridx, courseidx)), shape=(len(set(useridx)), len(set(courseidx))))\n",
        "sparse_matrix"
      ],
      "execution_count": 12,
      "outputs": [
        {
          "output_type": "execute_result",
          "data": {
            "text/plain": [
              "<5854x1559 sparse matrix of type '<class 'numpy.float64'>'\n",
              "\twith 39535 stored elements in Compressed Sparse Row format>"
            ]
          },
          "metadata": {
            "tags": []
          },
          "execution_count": 12
        }
      ]
    },
    {
      "cell_type": "code",
      "metadata": {
        "id": "xleTbsMbuFUm"
      },
      "source": [
        "R = sparse_matrix.toarray()"
      ],
      "execution_count": 13,
      "outputs": []
    },
    {
      "cell_type": "code",
      "metadata": {
        "colab": {
          "base_uri": "https://localhost:8080/",
          "height": 103,
          "referenced_widgets": [
            "24e97ccaf92342508004dbdd12c3a3fe",
            "2e204514298d4824bb31cb4a18a6a3cf",
            "67366cf8e2c9476b92803cd7b3af1549",
            "1b2ae3fe54064be09e55309edf4ebe76",
            "59b182e36f504fba80c695f3df4472e8",
            "29a2da92c4f94d4fa1d8f3f3e91373f5",
            "2444cb6ab6904da7bfc0686e82753628",
            "5b7d8904f0404cd8a48cfca72ad6815b"
          ]
        },
        "id": "F8wsIiBouNS8",
        "outputId": "7cdba4b5-f1e2-4452-e9ca-1dc7e502541a"
      },
      "source": [
        "als_model = ALS(factors=20, regularization=0.01, iterations = 100)\n",
        "als_model.fit(sparse_matrix.T)"
      ],
      "execution_count": 14,
      "outputs": [
        {
          "output_type": "stream",
          "text": [
            "GPU training requires factor size to be a multiple of 32. Increasing factors from 20 to 32.\n",
            "WARNING:root:OpenBLAS detected. Its highly recommend to set the environment variable 'export OPENBLAS_NUM_THREADS=1' to disable its internal multithreading\n"
          ],
          "name": "stderr"
        },
        {
          "output_type": "display_data",
          "data": {
            "application/vnd.jupyter.widget-view+json": {
              "model_id": "24e97ccaf92342508004dbdd12c3a3fe",
              "version_minor": 0,
              "version_major": 2
            },
            "text/plain": [
              "HBox(children=(FloatProgress(value=0.0), HTML(value='')))"
            ]
          },
          "metadata": {
            "tags": []
          }
        },
        {
          "output_type": "stream",
          "text": [
            "\n"
          ],
          "name": "stdout"
        }
      ]
    },
    {
      "cell_type": "code",
      "metadata": {
        "colab": {
          "base_uri": "https://localhost:8080/"
        },
        "id": "OV34EvGFvEJg",
        "outputId": "dc8784fb-84a8-49d3-f30b-d9ebf04fba0d"
      },
      "source": [
        "als_model.recommend(0, sparse_matrix)"
      ],
      "execution_count": 15,
      "outputs": [
        {
          "output_type": "execute_result",
          "data": {
            "text/plain": [
              "[(17, 0.18364996),\n",
              " (206, 0.12955385),\n",
              " (140, 0.106372476),\n",
              " (273, 0.09799971),\n",
              " (28, 0.08810562),\n",
              " (142, 0.07985218),\n",
              " (118, 0.07084918),\n",
              " (303, 0.063100964),\n",
              " (101, 0.057713937),\n",
              " (203, 0.054241635)]"
            ]
          },
          "metadata": {
            "tags": []
          },
          "execution_count": 15
        }
      ]
    },
    {
      "cell_type": "code",
      "metadata": {
        "id": "X1CJP8CO35ND"
      },
      "source": [
        "seen_list = data.groupby(['emp_no'])['course_cd'].agg({'unique'}).reset_index()"
      ],
      "execution_count": null,
      "outputs": []
    },
    {
      "cell_type": "code",
      "metadata": {
        "colab": {
          "base_uri": "https://localhost:8080/",
          "height": 67,
          "referenced_widgets": [
            "3277e4677bb2416ea0fd2552315fad7a",
            "7e511b6264534cbcba6af9b4470e9625",
            "5a83b44297a04a94adfd7feb4aebfb75",
            "6b71b0a513064e23a553c3f3c8e745de",
            "a6dd5e6a70114b47be0600df7b243763",
            "0cf53af5c18f4d34a3132253b90bae78",
            "0f53d6e36cc14f1983a1b2e453950f66",
            "2db7b7a16dfb4dc6b431553e568f1324"
          ]
        },
        "id": "R9od2F6g2O6f",
        "outputId": "33e82bef-2cd6-42f2-9251-74b927328e3d"
      },
      "source": [
        "total_rec_list = {}\n",
        "for user in tqdm(sub_data['useridx'].unique()):\n",
        "  rec_list = []\n",
        "\n",
        "  seen = seen_list[seen_list['emp_no'] == idx2user[user]]['unique'].values[0]\n",
        "  recs = als_model.recommend(user, sparse_matrix, N=50)\n",
        "  recs = [idx2course[x[0]] for x in recs][0:]\n",
        "\n",
        "  for rec in recs:\n",
        "    if rec not in seen:\n",
        "      rec_list.append(rec)\n",
        "\n",
        "  total_rec_list[idx2user[user]] = rec_list"
      ],
      "execution_count": 57,
      "outputs": [
        {
          "output_type": "display_data",
          "data": {
            "application/vnd.jupyter.widget-view+json": {
              "model_id": "3277e4677bb2416ea0fd2552315fad7a",
              "version_minor": 0,
              "version_major": 2
            },
            "text/plain": [
              "HBox(children=(FloatProgress(value=0.0, max=5854.0), HTML(value='')))"
            ]
          },
          "metadata": {
            "tags": []
          }
        },
        {
          "output_type": "stream",
          "text": [
            "\n"
          ],
          "name": "stdout"
        }
      ]
    },
    {
      "cell_type": "code",
      "metadata": {
        "colab": {
          "base_uri": "https://localhost:8080/",
          "height": 80
        },
        "id": "_GVqXl_r3jFY",
        "outputId": "de21f776-37f6-4c81-b3f2-aa48abb5ac7d"
      },
      "source": [
        "pd.DataFrame(seen_list.query(\"emp_no == 83191\")['unique'])"
      ],
      "execution_count": 72,
      "outputs": [
        {
          "output_type": "execute_result",
          "data": {
            "text/html": [
              "<div>\n",
              "<style scoped>\n",
              "    .dataframe tbody tr th:only-of-type {\n",
              "        vertical-align: middle;\n",
              "    }\n",
              "\n",
              "    .dataframe tbody tr th {\n",
              "        vertical-align: top;\n",
              "    }\n",
              "\n",
              "    .dataframe thead th {\n",
              "        text-align: right;\n",
              "    }\n",
              "</style>\n",
              "<table border=\"1\" class=\"dataframe\">\n",
              "  <thead>\n",
              "    <tr style=\"text-align: right;\">\n",
              "      <th></th>\n",
              "      <th>unique</th>\n",
              "    </tr>\n",
              "  </thead>\n",
              "  <tbody>\n",
              "    <tr>\n",
              "      <th>5795</th>\n",
              "      <td>[50023846, 50023848]</td>\n",
              "    </tr>\n",
              "  </tbody>\n",
              "</table>\n",
              "</div>"
            ],
            "text/plain": [
              "                    unique\n",
              "5795  [50023846, 50023848]"
            ]
          },
          "metadata": {
            "tags": []
          },
          "execution_count": 72
        }
      ]
    },
    {
      "cell_type": "code",
      "metadata": {
        "id": "BagwdrFyvlEX"
      },
      "source": [
        "def rec_course_by_als(data, total_rec_list, emp_no, recommend_num):\n",
        "  seen_df = data.query(\"emp_no == @emp_no\")[['course_nm']]\n",
        "  coursecd2nm = data[['course_nm','course_cd']].drop_duplicates()\n",
        "\n",
        "  rec_by_user = pd.DataFrame(total_rec_list[emp_no], columns={'course_cd'})\n",
        "  rec_info = pd.merge(rec_by_user, coursecd2nm, how='left', on='course_cd')\n",
        "\n",
        "  return seen_df, rec_info[:recommend_num]"
      ],
      "execution_count": 77,
      "outputs": []
    },
    {
      "cell_type": "code",
      "metadata": {
        "id": "Ni_3DiYjxmJJ"
      },
      "source": [
        "seen_by_user, rec_for_user = rec_course_by_als(data, total_rec_list, emp_no=83191, recommend_num=10)"
      ],
      "execution_count": 78,
      "outputs": []
    },
    {
      "cell_type": "code",
      "metadata": {
        "colab": {
          "base_uri": "https://localhost:8080/",
          "height": 111
        },
        "id": "78qlCtlWyEH3",
        "outputId": "4801330c-d5a9-49f9-f4d8-1dfcaf3ca940"
      },
      "source": [
        "seen_by_user"
      ],
      "execution_count": 79,
      "outputs": [
        {
          "output_type": "execute_result",
          "data": {
            "text/html": [
              "<div>\n",
              "<style scoped>\n",
              "    .dataframe tbody tr th:only-of-type {\n",
              "        vertical-align: middle;\n",
              "    }\n",
              "\n",
              "    .dataframe tbody tr th {\n",
              "        vertical-align: top;\n",
              "    }\n",
              "\n",
              "    .dataframe thead th {\n",
              "        text-align: right;\n",
              "    }\n",
              "</style>\n",
              "<table border=\"1\" class=\"dataframe\">\n",
              "  <thead>\n",
              "    <tr style=\"text-align: right;\">\n",
              "      <th></th>\n",
              "      <th>course_nm</th>\n",
              "    </tr>\n",
              "  </thead>\n",
              "  <tbody>\n",
              "    <tr>\n",
              "      <th>39338</th>\n",
              "      <td>딥러닝 실무</td>\n",
              "    </tr>\n",
              "    <tr>\n",
              "      <th>39339</th>\n",
              "      <td>시각지능 실무</td>\n",
              "    </tr>\n",
              "  </tbody>\n",
              "</table>\n",
              "</div>"
            ],
            "text/plain": [
              "      course_nm\n",
              "39338    딥러닝 실무\n",
              "39339   시각지능 실무"
            ]
          },
          "metadata": {
            "tags": []
          },
          "execution_count": 79
        }
      ]
    },
    {
      "cell_type": "code",
      "metadata": {
        "colab": {
          "base_uri": "https://localhost:8080/",
          "height": 359
        },
        "id": "5bq-PIGl4Zs6",
        "outputId": "2b77ec6b-ad3d-493b-98a4-6b3ce2a26e7f"
      },
      "source": [
        "rec_for_user"
      ],
      "execution_count": 80,
      "outputs": [
        {
          "output_type": "execute_result",
          "data": {
            "text/html": [
              "<div>\n",
              "<style scoped>\n",
              "    .dataframe tbody tr th:only-of-type {\n",
              "        vertical-align: middle;\n",
              "    }\n",
              "\n",
              "    .dataframe tbody tr th {\n",
              "        vertical-align: top;\n",
              "    }\n",
              "\n",
              "    .dataframe thead th {\n",
              "        text-align: right;\n",
              "    }\n",
              "</style>\n",
              "<table border=\"1\" class=\"dataframe\">\n",
              "  <thead>\n",
              "    <tr style=\"text-align: right;\">\n",
              "      <th></th>\n",
              "      <th>course_cd</th>\n",
              "      <th>course_nm</th>\n",
              "    </tr>\n",
              "  </thead>\n",
              "  <tbody>\n",
              "    <tr>\n",
              "      <th>0</th>\n",
              "      <td>50023879</td>\n",
              "      <td>언어지능 실무</td>\n",
              "    </tr>\n",
              "    <tr>\n",
              "      <th>1</th>\n",
              "      <td>50024396</td>\n",
              "      <td>AI 실전 Workshop</td>\n",
              "    </tr>\n",
              "    <tr>\n",
              "      <th>2</th>\n",
              "      <td>50023897</td>\n",
              "      <td>AI 심화</td>\n",
              "    </tr>\n",
              "    <tr>\n",
              "      <th>3</th>\n",
              "      <td>50023818</td>\n",
              "      <td>빅데이터 분석 Workshop</td>\n",
              "    </tr>\n",
              "    <tr>\n",
              "      <th>4</th>\n",
              "      <td>50023663</td>\n",
              "      <td>[교재보기]빅데이터 분석</td>\n",
              "    </tr>\n",
              "    <tr>\n",
              "      <th>5</th>\n",
              "      <td>77623</td>\n",
              "      <td>김왼손의 미운코딩새끼: 4시간만에 끝내는 파이썬 기초 (전자책 포함)</td>\n",
              "    </tr>\n",
              "    <tr>\n",
              "      <th>6</th>\n",
              "      <td>50024002</td>\n",
              "      <td>[교재보기]AI</td>\n",
              "    </tr>\n",
              "    <tr>\n",
              "      <th>7</th>\n",
              "      <td>50024390</td>\n",
              "      <td>[이러닝]Python 데이터 분석 기초</td>\n",
              "    </tr>\n",
              "    <tr>\n",
              "      <th>8</th>\n",
              "      <td>50024091</td>\n",
              "      <td>[개발언어 Skill-up]빅데이터 분석을 위한 Python</td>\n",
              "    </tr>\n",
              "    <tr>\n",
              "      <th>9</th>\n",
              "      <td>50024383</td>\n",
              "      <td>DAP MLDL Workshop</td>\n",
              "    </tr>\n",
              "  </tbody>\n",
              "</table>\n",
              "</div>"
            ],
            "text/plain": [
              "  course_cd                               course_nm\n",
              "0  50023879                                 언어지능 실무\n",
              "1  50024396                          AI 실전 Workshop\n",
              "2  50023897                                   AI 심화\n",
              "3  50023818                        빅데이터 분석 Workshop\n",
              "4  50023663                           [교재보기]빅데이터 분석\n",
              "5     77623  김왼손의 미운코딩새끼: 4시간만에 끝내는 파이썬 기초 (전자책 포함)\n",
              "6  50024002                                [교재보기]AI\n",
              "7  50024390                   [이러닝]Python 데이터 분석 기초\n",
              "8  50024091       [개발언어 Skill-up]빅데이터 분석을 위한 Python\n",
              "9  50024383                       DAP MLDL Workshop"
            ]
          },
          "metadata": {
            "tags": []
          },
          "execution_count": 80
        }
      ]
    }
  ]
}