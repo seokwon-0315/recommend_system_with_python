{
 "cells": [
  {
   "cell_type": "markdown",
   "metadata": {
    "id": "hZRXkBSJ0-zV"
   },
   "source": [
    "# Load library"
   ]
  },
  {
   "cell_type": "code",
   "execution_count": 1,
   "metadata": {
    "colab": {
     "base_uri": "https://localhost:8080/"
    },
    "id": "DMCqZrOlpRBM",
    "outputId": "d7c429f5-fd43-40d3-c963-34f55fef824f"
   },
   "outputs": [],
   "source": [
    "#pip install implicit"
   ]
  },
  {
   "cell_type": "code",
   "execution_count": 2,
   "metadata": {
    "id": "kkw5f9joC0yL"
   },
   "outputs": [],
   "source": [
    "import pandas as pd\n",
    "import numpy as np\n",
    "import scipy \n",
    "import warnings\n",
    "from tqdm.notebook import tqdm\n",
    "import plotnine\n",
    "from implicit.evaluation import  *\n",
    "from implicit.als import AlternatingLeastSquares as ALS\n",
    "\n",
    "warnings.filterwarnings('ignore')"
   ]
  },
  {
   "cell_type": "markdown",
   "metadata": {
    "id": "AcRPdd3X1E_I"
   },
   "source": [
    "# Load Data"
   ]
  },
  {
   "cell_type": "code",
   "execution_count": 4,
   "metadata": {
    "id": "hMn9gHNpo5ok"
   },
   "outputs": [],
   "source": [
    "data = pd.read_csv('../Data/LearningPlus/input_data.csv')"
   ]
  },
  {
   "cell_type": "code",
   "execution_count": 5,
   "metadata": {
    "colab": {
     "base_uri": "https://localhost:8080/",
     "height": 204
    },
    "id": "mIqYDbRmpaBG",
    "outputId": "3ea66a23-b379-49e5-94fd-c87bf6d45df6"
   },
   "outputs": [
    {
     "data": {
      "text/html": [
       "<div>\n",
       "<style scoped>\n",
       "    .dataframe tbody tr th:only-of-type {\n",
       "        vertical-align: middle;\n",
       "    }\n",
       "\n",
       "    .dataframe tbody tr th {\n",
       "        vertical-align: top;\n",
       "    }\n",
       "\n",
       "    .dataframe thead th {\n",
       "        text-align: right;\n",
       "    }\n",
       "</style>\n",
       "<table border=\"1\" class=\"dataframe\">\n",
       "  <thead>\n",
       "    <tr style=\"text-align: right;\">\n",
       "      <th></th>\n",
       "      <th>emp_no</th>\n",
       "      <th>course_cd</th>\n",
       "      <th>date</th>\n",
       "      <th>code</th>\n",
       "      <th>study_type</th>\n",
       "      <th>course_host</th>\n",
       "      <th>emp_nm</th>\n",
       "      <th>title_nm</th>\n",
       "      <th>jc_nm</th>\n",
       "      <th>org_lvl4_nm</th>\n",
       "      <th>org_lvl2_nm</th>\n",
       "      <th>job_grp_nm</th>\n",
       "      <th>course_nm</th>\n",
       "      <th>category</th>\n",
       "    </tr>\n",
       "  </thead>\n",
       "  <tbody>\n",
       "    <tr>\n",
       "      <th>0</th>\n",
       "      <td>12528</td>\n",
       "      <td>50023796</td>\n",
       "      <td>2018-03-29</td>\n",
       "      <td>3_taken</td>\n",
       "      <td>Off</td>\n",
       "      <td>Internal</td>\n",
       "      <td>장병국</td>\n",
       "      <td>책임</td>\n",
       "      <td>Business Engineering</td>\n",
       "      <td>사업지원팀</td>\n",
       "      <td>개발혁신센터</td>\n",
       "      <td>Business Engineering</td>\n",
       "      <td>CE기본/심화통합</td>\n",
       "      <td>00002329</td>\n",
       "    </tr>\n",
       "    <tr>\n",
       "      <th>1</th>\n",
       "      <td>12528</td>\n",
       "      <td>50023886</td>\n",
       "      <td>2018-02-21</td>\n",
       "      <td>3_taken</td>\n",
       "      <td>On</td>\n",
       "      <td>Internal</td>\n",
       "      <td>장병국</td>\n",
       "      <td>책임</td>\n",
       "      <td>Business Engineering</td>\n",
       "      <td>사업지원팀</td>\n",
       "      <td>개발혁신센터</td>\n",
       "      <td>Business Engineering</td>\n",
       "      <td>[교재보기]CE기본</td>\n",
       "      <td>00002329</td>\n",
       "    </tr>\n",
       "    <tr>\n",
       "      <th>2</th>\n",
       "      <td>12632</td>\n",
       "      <td>50023893</td>\n",
       "      <td>2019-08-12</td>\n",
       "      <td>3_taken</td>\n",
       "      <td>On</td>\n",
       "      <td>Internal</td>\n",
       "      <td>송기황</td>\n",
       "      <td>책임</td>\n",
       "      <td>Infra Architecture</td>\n",
       "      <td>Enterprise TA팀</td>\n",
       "      <td>아키텍처담당</td>\n",
       "      <td>IT Professional</td>\n",
       "      <td>[이러닝]AI빅데이터 기본_R활용 기본</td>\n",
       "      <td>00002355</td>\n",
       "    </tr>\n",
       "    <tr>\n",
       "      <th>3</th>\n",
       "      <td>12632</td>\n",
       "      <td>50023894</td>\n",
       "      <td>2019-03-17</td>\n",
       "      <td>3_taken</td>\n",
       "      <td>On</td>\n",
       "      <td>Internal</td>\n",
       "      <td>송기황</td>\n",
       "      <td>책임</td>\n",
       "      <td>Infra Architecture</td>\n",
       "      <td>Enterprise TA팀</td>\n",
       "      <td>아키텍처담당</td>\n",
       "      <td>IT Professional</td>\n",
       "      <td>[이러닝]AI빅데이터 기본_통계분석 기본</td>\n",
       "      <td>00002355</td>\n",
       "    </tr>\n",
       "    <tr>\n",
       "      <th>4</th>\n",
       "      <td>12632</td>\n",
       "      <td>50023895</td>\n",
       "      <td>2019-03-17</td>\n",
       "      <td>3_taken</td>\n",
       "      <td>On</td>\n",
       "      <td>Internal</td>\n",
       "      <td>송기황</td>\n",
       "      <td>책임</td>\n",
       "      <td>Infra Architecture</td>\n",
       "      <td>Enterprise TA팀</td>\n",
       "      <td>아키텍처담당</td>\n",
       "      <td>IT Professional</td>\n",
       "      <td>[이러닝]AI빅데이터 기본_머신러닝 기본</td>\n",
       "      <td>00002355</td>\n",
       "    </tr>\n",
       "  </tbody>\n",
       "</table>\n",
       "</div>"
      ],
      "text/plain": [
       "   emp_no course_cd        date     code study_type course_host emp_nm  \\\n",
       "0   12528  50023796  2018-03-29  3_taken        Off    Internal    장병국   \n",
       "1   12528  50023886  2018-02-21  3_taken         On    Internal    장병국   \n",
       "2   12632  50023893  2019-08-12  3_taken         On    Internal    송기황   \n",
       "3   12632  50023894  2019-03-17  3_taken         On    Internal    송기황   \n",
       "4   12632  50023895  2019-03-17  3_taken         On    Internal    송기황   \n",
       "\n",
       "  title_nm                 jc_nm     org_lvl4_nm org_lvl2_nm  \\\n",
       "0       책임  Business Engineering           사업지원팀      개발혁신센터   \n",
       "1       책임  Business Engineering           사업지원팀      개발혁신센터   \n",
       "2       책임    Infra Architecture  Enterprise TA팀      아키텍처담당   \n",
       "3       책임    Infra Architecture  Enterprise TA팀      아키텍처담당   \n",
       "4       책임    Infra Architecture  Enterprise TA팀      아키텍처담당   \n",
       "\n",
       "             job_grp_nm               course_nm  category  \n",
       "0  Business Engineering               CE기본/심화통합  00002329  \n",
       "1  Business Engineering              [교재보기]CE기본  00002329  \n",
       "2       IT Professional   [이러닝]AI빅데이터 기본_R활용 기본  00002355  \n",
       "3       IT Professional  [이러닝]AI빅데이터 기본_통계분석 기본  00002355  \n",
       "4       IT Professional  [이러닝]AI빅데이터 기본_머신러닝 기본  00002355  "
      ]
     },
     "execution_count": 5,
     "metadata": {},
     "output_type": "execute_result"
    }
   ],
   "source": [
    "data.head()"
   ]
  },
  {
   "cell_type": "code",
   "execution_count": 6,
   "metadata": {
    "colab": {
     "base_uri": "https://localhost:8080/"
    },
    "id": "dK7NiHdKqDt9",
    "outputId": "e4551a54-ea2a-44a9-f1a6-3d2dc49c0a1d"
   },
   "outputs": [
    {
     "name": "stdout",
     "output_type": "stream",
     "text": [
      "5854\n",
      "1559\n",
      "1556\n"
     ]
    }
   ],
   "source": [
    "# unique한 user, 강의 수\n",
    "# course_cd와 course_nm의 개수가 다름 -> 같은 강의명이어도 내부/외부 강의 여부에 따라 course_cd가 다름\n",
    "# 일단 course_cd로 구분\n",
    "print(data['emp_no'].nunique())\n",
    "print(data['course_cd'].nunique())\n",
    "print(data['course_nm'].nunique())"
   ]
  },
  {
   "cell_type": "code",
   "execution_count": 7,
   "metadata": {
    "colab": {
     "base_uri": "https://localhost:8080/",
     "height": 142
    },
    "id": "tlGKQgEQqa9M",
    "outputId": "79cded71-ff3f-43d6-fb82-b42fc065b1c1"
   },
   "outputs": [
    {
     "data": {
      "text/html": [
       "<div>\n",
       "<style scoped>\n",
       "    .dataframe tbody tr th:only-of-type {\n",
       "        vertical-align: middle;\n",
       "    }\n",
       "\n",
       "    .dataframe tbody tr th {\n",
       "        vertical-align: top;\n",
       "    }\n",
       "\n",
       "    .dataframe thead th {\n",
       "        text-align: right;\n",
       "    }\n",
       "</style>\n",
       "<table border=\"1\" class=\"dataframe\">\n",
       "  <thead>\n",
       "    <tr style=\"text-align: right;\">\n",
       "      <th></th>\n",
       "      <th>course_nm</th>\n",
       "      <th>unique</th>\n",
       "      <th>nunique</th>\n",
       "    </tr>\n",
       "  </thead>\n",
       "  <tbody>\n",
       "    <tr>\n",
       "      <th>1169</th>\n",
       "      <td>업무효율이 향상되는 엑셀 함수와 매크로(2013)</td>\n",
       "      <td>[50023975, HLSP22892]</td>\n",
       "      <td>2</td>\n",
       "    </tr>\n",
       "    <tr>\n",
       "      <th>1285</th>\n",
       "      <td>자바 프로그래밍 입문 강좌 (renew ver.) - 초보부터 개발자 취업까지!!</td>\n",
       "      <td>[20200228000039, 182835]</td>\n",
       "      <td>2</td>\n",
       "    </tr>\n",
       "    <tr>\n",
       "      <th>516</th>\n",
       "      <td>[논어] 시대를 넘어 참 인간을 논하다</td>\n",
       "      <td>[50021762, HLSP24064]</td>\n",
       "      <td>2</td>\n",
       "    </tr>\n",
       "  </tbody>\n",
       "</table>\n",
       "</div>"
      ],
      "text/plain": [
       "                                          course_nm                    unique  \\\n",
       "1169                    업무효율이 향상되는 엑셀 함수와 매크로(2013)     [50023975, HLSP22892]   \n",
       "1285  자바 프로그래밍 입문 강좌 (renew ver.) - 초보부터 개발자 취업까지!!  [20200228000039, 182835]   \n",
       "516                           [논어] 시대를 넘어 참 인간을 논하다     [50021762, HLSP24064]   \n",
       "\n",
       "      nunique  \n",
       "1169        2  \n",
       "1285        2  \n",
       "516         2  "
      ]
     },
     "execution_count": 7,
     "metadata": {},
     "output_type": "execute_result"
    }
   ],
   "source": [
    "# 동일한 course_nm인데 course_cd가 다른 강의\n",
    "tmp = data.groupby(['course_nm'])['course_cd'].agg({'nunique','unique'}).reset_index().sort_values(['nunique'],ascending=False)\n",
    "tmp.query(\"nunique != 1\")"
   ]
  },
  {
   "cell_type": "markdown",
   "metadata": {},
   "source": [
    "# Modeling"
   ]
  },
  {
   "cell_type": "code",
   "execution_count": 8,
   "metadata": {
    "id": "B4bexMzpsj4M"
   },
   "outputs": [],
   "source": [
    "user2idx = {}\n",
    "for i, l in enumerate(data['emp_no'].unique()):\n",
    "    user2idx[l] = i\n",
    "    \n",
    "course2idx = {}\n",
    "for i, l in enumerate(data['course_cd'].unique()):\n",
    "    course2idx[l] = i"
   ]
  },
  {
   "cell_type": "code",
   "execution_count": 9,
   "metadata": {
    "id": "mhCPFWljs8wB"
   },
   "outputs": [],
   "source": [
    "idx2user = {i: user for user, i in user2idx.items()}\n",
    "idx2course = {i: item for item, i in course2idx.items()}"
   ]
  },
  {
   "cell_type": "code",
   "execution_count": 10,
   "metadata": {
    "id": "YQYxNlnUtSSI"
   },
   "outputs": [],
   "source": [
    "sub_data = data[['emp_no', 'course_cd']].reset_index(drop=True)\n",
    "useridx = sub_data['useridx'] = data['emp_no'].apply(lambda x: user2idx[x]).values\n",
    "courseidx = sub_data['courseidx'] = data['course_cd'].apply(lambda x: course2idx[x]).values\n",
    "rating = np.ones(len(sub_data))"
   ]
  },
  {
   "cell_type": "code",
   "execution_count": 11,
   "metadata": {
    "colab": {
     "base_uri": "https://localhost:8080/"
    },
    "id": "N8WFHIGHtD3y",
    "outputId": "43c8bde8-9f38-45f1-a522-d6f7e0d76fb2"
   },
   "outputs": [
    {
     "data": {
      "text/plain": [
       "<5854x1559 sparse matrix of type '<class 'numpy.float64'>'\n",
       "\twith 39535 stored elements in Compressed Sparse Row format>"
      ]
     },
     "execution_count": 11,
     "metadata": {},
     "output_type": "execute_result"
    }
   ],
   "source": [
    "sparse_matrix = scipy.sparse.csr_matrix((rating, (useridx, courseidx)), shape=(len(set(useridx)), len(set(courseidx))))\n",
    "sparse_matrix"
   ]
  },
  {
   "cell_type": "code",
   "execution_count": 12,
   "metadata": {
    "id": "xleTbsMbuFUm"
   },
   "outputs": [],
   "source": [
    "R = sparse_matrix.toarray()"
   ]
  },
  {
   "cell_type": "code",
   "execution_count": 14,
   "metadata": {
    "colab": {
     "base_uri": "https://localhost:8080/",
     "height": 103,
     "referenced_widgets": [
      "24e97ccaf92342508004dbdd12c3a3fe",
      "2e204514298d4824bb31cb4a18a6a3cf",
      "67366cf8e2c9476b92803cd7b3af1549",
      "1b2ae3fe54064be09e55309edf4ebe76",
      "59b182e36f504fba80c695f3df4472e8",
      "29a2da92c4f94d4fa1d8f3f3e91373f5",
      "2444cb6ab6904da7bfc0686e82753628",
      "5b7d8904f0404cd8a48cfca72ad6815b"
     ]
    },
    "id": "F8wsIiBouNS8",
    "outputId": "7cdba4b5-f1e2-4452-e9ca-1dc7e502541a"
   },
   "outputs": [
    {
     "data": {
      "application/vnd.jupyter.widget-view+json": {
       "model_id": "28967b89997e4d439031d6783043b6eb",
       "version_major": 2,
       "version_minor": 0
      },
      "text/plain": [
       "HBox(children=(HTML(value=''), FloatProgress(value=0.0), HTML(value='')))"
      ]
     },
     "metadata": {},
     "output_type": "display_data"
    },
    {
     "name": "stdout",
     "output_type": "stream",
     "text": [
      "\n"
     ]
    }
   ],
   "source": [
    "als_model = ALS(factors=20, regularization=0.01, iterations = 100)\n",
    "als_model.fit(sparse_matrix.T)"
   ]
  },
  {
   "cell_type": "code",
   "execution_count": 15,
   "metadata": {
    "colab": {
     "base_uri": "https://localhost:8080/"
    },
    "id": "OV34EvGFvEJg",
    "outputId": "dc8784fb-84a8-49d3-f30b-d9ebf04fba0d"
   },
   "outputs": [
    {
     "data": {
      "text/plain": [
       "[(14, 0.44474617),\n",
       " (23, 0.17814311),\n",
       " (17, 0.17108533),\n",
       " (45, 0.17026107),\n",
       " (126, 0.11683133),\n",
       " (16, 0.11320813),\n",
       " (303, 0.11122804),\n",
       " (224, 0.09766561),\n",
       " (15, 0.09471109),\n",
       " (28, 0.08964201)]"
      ]
     },
     "execution_count": 15,
     "metadata": {},
     "output_type": "execute_result"
    }
   ],
   "source": [
    "als_model.recommend(0, sparse_matrix)"
   ]
  },
  {
   "cell_type": "code",
   "execution_count": 16,
   "metadata": {
    "id": "X1CJP8CO35ND"
   },
   "outputs": [],
   "source": [
    "seen_list = data.groupby(['emp_no'])['course_cd'].agg({'unique'}).reset_index()"
   ]
  },
  {
   "cell_type": "code",
   "execution_count": 17,
   "metadata": {
    "colab": {
     "base_uri": "https://localhost:8080/",
     "height": 67,
     "referenced_widgets": [
      "3277e4677bb2416ea0fd2552315fad7a",
      "7e511b6264534cbcba6af9b4470e9625",
      "5a83b44297a04a94adfd7feb4aebfb75",
      "6b71b0a513064e23a553c3f3c8e745de",
      "a6dd5e6a70114b47be0600df7b243763",
      "0cf53af5c18f4d34a3132253b90bae78",
      "0f53d6e36cc14f1983a1b2e453950f66",
      "2db7b7a16dfb4dc6b431553e568f1324"
     ]
    },
    "id": "R9od2F6g2O6f",
    "outputId": "33e82bef-2cd6-42f2-9251-74b927328e3d"
   },
   "outputs": [
    {
     "data": {
      "application/vnd.jupyter.widget-view+json": {
       "model_id": "50376c24074343f7ade496bffbad4108",
       "version_major": 2,
       "version_minor": 0
      },
      "text/plain": [
       "HBox(children=(HTML(value=''), FloatProgress(value=0.0, max=5854.0), HTML(value='')))"
      ]
     },
     "metadata": {},
     "output_type": "display_data"
    },
    {
     "name": "stdout",
     "output_type": "stream",
     "text": [
      "\n"
     ]
    }
   ],
   "source": [
    "total_rec_list = {}\n",
    "for user in tqdm(sub_data['useridx'].unique()):\n",
    "  rec_list = []\n",
    "\n",
    "  seen = seen_list[seen_list['emp_no'] == idx2user[user]]['unique'].values[0]\n",
    "  recs = als_model.recommend(user, sparse_matrix, N=50)\n",
    "  recs = [idx2course[x[0]] for x in recs][0:]\n",
    "\n",
    "  for rec in recs:\n",
    "    if rec not in seen:\n",
    "      rec_list.append(rec)\n",
    "\n",
    "  total_rec_list[idx2user[user]] = rec_list"
   ]
  },
  {
   "cell_type": "code",
   "execution_count": 19,
   "metadata": {
    "id": "BagwdrFyvlEX"
   },
   "outputs": [],
   "source": [
    "def rec_course_by_als(data, total_rec_list, emp_no, recommend_num):\n",
    "  seen_df = data.query(\"emp_no == @emp_no\")[['course_nm']]\n",
    "  coursecd2nm = data[['course_nm','course_cd']].drop_duplicates()\n",
    "\n",
    "  rec_by_user = pd.DataFrame(total_rec_list[emp_no], columns={'course_cd'})\n",
    "  rec_info = pd.merge(rec_by_user, coursecd2nm, how='left', on='course_cd')\n",
    "\n",
    "  return seen_df, rec_info[:recommend_num]"
   ]
  },
  {
   "cell_type": "code",
   "execution_count": 20,
   "metadata": {
    "id": "Ni_3DiYjxmJJ"
   },
   "outputs": [],
   "source": [
    "seen_by_user, rec_for_user = rec_course_by_als(data, total_rec_list, emp_no=83191, recommend_num=10)"
   ]
  },
  {
   "cell_type": "code",
   "execution_count": 21,
   "metadata": {
    "colab": {
     "base_uri": "https://localhost:8080/",
     "height": 111
    },
    "id": "78qlCtlWyEH3",
    "outputId": "4801330c-d5a9-49f9-f4d8-1dfcaf3ca940"
   },
   "outputs": [
    {
     "data": {
      "text/html": [
       "<div>\n",
       "<style scoped>\n",
       "    .dataframe tbody tr th:only-of-type {\n",
       "        vertical-align: middle;\n",
       "    }\n",
       "\n",
       "    .dataframe tbody tr th {\n",
       "        vertical-align: top;\n",
       "    }\n",
       "\n",
       "    .dataframe thead th {\n",
       "        text-align: right;\n",
       "    }\n",
       "</style>\n",
       "<table border=\"1\" class=\"dataframe\">\n",
       "  <thead>\n",
       "    <tr style=\"text-align: right;\">\n",
       "      <th></th>\n",
       "      <th>course_nm</th>\n",
       "    </tr>\n",
       "  </thead>\n",
       "  <tbody>\n",
       "    <tr>\n",
       "      <th>39338</th>\n",
       "      <td>딥러닝 실무</td>\n",
       "    </tr>\n",
       "    <tr>\n",
       "      <th>39339</th>\n",
       "      <td>시각지능 실무</td>\n",
       "    </tr>\n",
       "  </tbody>\n",
       "</table>\n",
       "</div>"
      ],
      "text/plain": [
       "      course_nm\n",
       "39338    딥러닝 실무\n",
       "39339   시각지능 실무"
      ]
     },
     "execution_count": 21,
     "metadata": {},
     "output_type": "execute_result"
    }
   ],
   "source": [
    "seen_by_user"
   ]
  },
  {
   "cell_type": "code",
   "execution_count": 22,
   "metadata": {
    "colab": {
     "base_uri": "https://localhost:8080/",
     "height": 359
    },
    "id": "5bq-PIGl4Zs6",
    "outputId": "2b77ec6b-ad3d-493b-98a4-6b3ce2a26e7f"
   },
   "outputs": [
    {
     "data": {
      "text/html": [
       "<div>\n",
       "<style scoped>\n",
       "    .dataframe tbody tr th:only-of-type {\n",
       "        vertical-align: middle;\n",
       "    }\n",
       "\n",
       "    .dataframe tbody tr th {\n",
       "        vertical-align: top;\n",
       "    }\n",
       "\n",
       "    .dataframe thead th {\n",
       "        text-align: right;\n",
       "    }\n",
       "</style>\n",
       "<table border=\"1\" class=\"dataframe\">\n",
       "  <thead>\n",
       "    <tr style=\"text-align: right;\">\n",
       "      <th></th>\n",
       "      <th>course_cd</th>\n",
       "      <th>course_nm</th>\n",
       "    </tr>\n",
       "  </thead>\n",
       "  <tbody>\n",
       "    <tr>\n",
       "      <th>0</th>\n",
       "      <td>50023879</td>\n",
       "      <td>언어지능 실무</td>\n",
       "    </tr>\n",
       "    <tr>\n",
       "      <th>1</th>\n",
       "      <td>50024396</td>\n",
       "      <td>AI 실전 Workshop</td>\n",
       "    </tr>\n",
       "    <tr>\n",
       "      <th>2</th>\n",
       "      <td>50023897</td>\n",
       "      <td>AI 심화</td>\n",
       "    </tr>\n",
       "    <tr>\n",
       "      <th>3</th>\n",
       "      <td>50023663</td>\n",
       "      <td>[교재보기]빅데이터 분석</td>\n",
       "    </tr>\n",
       "    <tr>\n",
       "      <th>4</th>\n",
       "      <td>50024002</td>\n",
       "      <td>[교재보기]AI</td>\n",
       "    </tr>\n",
       "    <tr>\n",
       "      <th>5</th>\n",
       "      <td>77623</td>\n",
       "      <td>김왼손의 미운코딩새끼: 4시간만에 끝내는 파이썬 기초 (전자책 포함)</td>\n",
       "    </tr>\n",
       "    <tr>\n",
       "      <th>6</th>\n",
       "      <td>50023818</td>\n",
       "      <td>빅데이터 분석 Workshop</td>\n",
       "    </tr>\n",
       "    <tr>\n",
       "      <th>7</th>\n",
       "      <td>50024390</td>\n",
       "      <td>[이러닝]Python 데이터 분석 기초</td>\n",
       "    </tr>\n",
       "    <tr>\n",
       "      <th>8</th>\n",
       "      <td>50024091</td>\n",
       "      <td>[개발언어 Skill-up]빅데이터 분석을 위한 Python</td>\n",
       "    </tr>\n",
       "    <tr>\n",
       "      <th>9</th>\n",
       "      <td>50023792</td>\n",
       "      <td>[개발언어 Skill-up]Algorithm 개발언어</td>\n",
       "    </tr>\n",
       "  </tbody>\n",
       "</table>\n",
       "</div>"
      ],
      "text/plain": [
       "  course_cd                               course_nm\n",
       "0  50023879                                 언어지능 실무\n",
       "1  50024396                          AI 실전 Workshop\n",
       "2  50023897                                   AI 심화\n",
       "3  50023663                           [교재보기]빅데이터 분석\n",
       "4  50024002                                [교재보기]AI\n",
       "5     77623  김왼손의 미운코딩새끼: 4시간만에 끝내는 파이썬 기초 (전자책 포함)\n",
       "6  50023818                        빅데이터 분석 Workshop\n",
       "7  50024390                   [이러닝]Python 데이터 분석 기초\n",
       "8  50024091       [개발언어 Skill-up]빅데이터 분석을 위한 Python\n",
       "9  50023792           [개발언어 Skill-up]Algorithm 개발언어"
      ]
     },
     "execution_count": 22,
     "metadata": {},
     "output_type": "execute_result"
    }
   ],
   "source": [
    "rec_for_user"
   ]
  },
  {
   "cell_type": "markdown",
   "metadata": {},
   "source": [
    "# class로 만들기"
   ]
  },
  {
   "cell_type": "code",
   "execution_count": 45,
   "metadata": {},
   "outputs": [],
   "source": [
    "class recommend_course_by_als():\n",
    "    \n",
    "    def __init__(self, data):\n",
    "        self._data = data\n",
    "        \n",
    "        \n",
    "    def fit(self, factors, regularization, iterations):\n",
    "        # user와 item을 index로 바꾸고 원복하기 위한 dict 생성\n",
    "        self._user2idx = {}\n",
    "        for i, l in enumerate(self._data['emp_no'].unique()):\n",
    "            self._user2idx[l] = i\n",
    "            \n",
    "        self._course2idx = {}\n",
    "        for i, l in enumerate(self._data['course_cd'].unique()):\n",
    "            self._course2idx[l] = i\n",
    "\n",
    "        self._idx2user = {i: user for user, i in self._user2idx.items()}\n",
    "        self._idx2course = {i: item for item, i in self._course2idx.items()}\n",
    "        \n",
    "        # emp_no와 course_cd를 이용해 sparse matrix 생성\n",
    "        self._sub_data = self._data[['emp_no', 'course_cd']].reset_index(drop=True)\n",
    "        useridx = self._sub_data['useridx'] = self._data['emp_no'].apply(lambda x: self._user2idx[x]).values\n",
    "        courseidx = self._sub_data['courseidx'] = self._data['course_cd'].apply(lambda x: self._course2idx[x]).values\n",
    "        rating = np.ones(len(self._sub_data))\n",
    "        self._sparse_matrix = scipy.sparse.csr_matrix((rating, (useridx, courseidx)), shape=(len(set(useridx)), len(set(courseidx))))\n",
    "        R = self._sparse_matrix.toarray()\n",
    "        \n",
    "        # ALS 인스턴스 생성 후 학습\n",
    "        self._als_model = ALS(factors=factors, regularization=regularization, iterations = iterations)\n",
    "        self._als_model.fit(sparse_matrix.T)\n",
    "        \n",
    "    def recommend(self, emp_no, recommend_num):\n",
    "        seen_list = self._data.groupby(['emp_no'])['course_cd'].agg({'unique'}).reset_index()\n",
    "        \n",
    "        total_rec_list = {}\n",
    "        for user in tqdm(self._sub_data['useridx'].unique()):\n",
    "          rec_list = []\n",
    "\n",
    "          seen = seen_list[seen_list['emp_no'] == self._idx2user[user]]['unique'].values[0]\n",
    "          recs = self._als_model.recommend(user, self._sparse_matrix, N=recommend_num)\n",
    "          recs = [self._idx2course[x[0]] for x in recs][0:]\n",
    "\n",
    "          for rec in recs:\n",
    "            if rec not in seen:\n",
    "              rec_list.append(rec)\n",
    "\n",
    "          total_rec_list[self._idx2user[user]] = rec_list\n",
    "        \n",
    "        seen_df = self._data.query(\"emp_no == @emp_no\")[['course_nm']]\n",
    "        coursecd2nm = self._data[['course_nm','course_cd']].drop_duplicates()\n",
    "\n",
    "        rec_by_user = pd.DataFrame(total_rec_list[emp_no], columns={'course_cd'})\n",
    "        rec_info = pd.merge(rec_by_user, coursecd2nm, how='left', on='course_cd')\n",
    "\n",
    "        return seen_df, rec_info[:recommend_num]"
   ]
  },
  {
   "cell_type": "code",
   "execution_count": 46,
   "metadata": {},
   "outputs": [],
   "source": [
    "test = recommend_course_by_als(data)"
   ]
  },
  {
   "cell_type": "code",
   "execution_count": 47,
   "metadata": {},
   "outputs": [
    {
     "data": {
      "application/vnd.jupyter.widget-view+json": {
       "model_id": "792a5a8c60224f45aaae7040b10ae1a6",
       "version_major": 2,
       "version_minor": 0
      },
      "text/plain": [
       "HBox(children=(HTML(value=''), FloatProgress(value=0.0), HTML(value='')))"
      ]
     },
     "metadata": {},
     "output_type": "display_data"
    },
    {
     "name": "stdout",
     "output_type": "stream",
     "text": [
      "\n"
     ]
    }
   ],
   "source": [
    "test.fit(factors=20, regularization=0.01, iterations = 100)"
   ]
  },
  {
   "cell_type": "code",
   "execution_count": 48,
   "metadata": {},
   "outputs": [
    {
     "data": {
      "application/vnd.jupyter.widget-view+json": {
       "model_id": "b589612dcaae45be8bb23ae79ef08a7d",
       "version_major": 2,
       "version_minor": 0
      },
      "text/plain": [
       "HBox(children=(HTML(value=''), FloatProgress(value=0.0, max=5854.0), HTML(value='')))"
      ]
     },
     "metadata": {},
     "output_type": "display_data"
    },
    {
     "name": "stdout",
     "output_type": "stream",
     "text": [
      "\n"
     ]
    }
   ],
   "source": [
    "seen_df, rec_df = test.recommend(83191, 10)"
   ]
  },
  {
   "cell_type": "code",
   "execution_count": 49,
   "metadata": {},
   "outputs": [
    {
     "data": {
      "text/html": [
       "<div>\n",
       "<style scoped>\n",
       "    .dataframe tbody tr th:only-of-type {\n",
       "        vertical-align: middle;\n",
       "    }\n",
       "\n",
       "    .dataframe tbody tr th {\n",
       "        vertical-align: top;\n",
       "    }\n",
       "\n",
       "    .dataframe thead th {\n",
       "        text-align: right;\n",
       "    }\n",
       "</style>\n",
       "<table border=\"1\" class=\"dataframe\">\n",
       "  <thead>\n",
       "    <tr style=\"text-align: right;\">\n",
       "      <th></th>\n",
       "      <th>course_nm</th>\n",
       "    </tr>\n",
       "  </thead>\n",
       "  <tbody>\n",
       "    <tr>\n",
       "      <th>39338</th>\n",
       "      <td>딥러닝 실무</td>\n",
       "    </tr>\n",
       "    <tr>\n",
       "      <th>39339</th>\n",
       "      <td>시각지능 실무</td>\n",
       "    </tr>\n",
       "  </tbody>\n",
       "</table>\n",
       "</div>"
      ],
      "text/plain": [
       "      course_nm\n",
       "39338    딥러닝 실무\n",
       "39339   시각지능 실무"
      ]
     },
     "execution_count": 49,
     "metadata": {},
     "output_type": "execute_result"
    }
   ],
   "source": [
    "seen_df"
   ]
  },
  {
   "cell_type": "code",
   "execution_count": 50,
   "metadata": {},
   "outputs": [
    {
     "data": {
      "text/html": [
       "<div>\n",
       "<style scoped>\n",
       "    .dataframe tbody tr th:only-of-type {\n",
       "        vertical-align: middle;\n",
       "    }\n",
       "\n",
       "    .dataframe tbody tr th {\n",
       "        vertical-align: top;\n",
       "    }\n",
       "\n",
       "    .dataframe thead th {\n",
       "        text-align: right;\n",
       "    }\n",
       "</style>\n",
       "<table border=\"1\" class=\"dataframe\">\n",
       "  <thead>\n",
       "    <tr style=\"text-align: right;\">\n",
       "      <th></th>\n",
       "      <th>course_cd</th>\n",
       "      <th>course_nm</th>\n",
       "    </tr>\n",
       "  </thead>\n",
       "  <tbody>\n",
       "    <tr>\n",
       "      <th>0</th>\n",
       "      <td>50023879</td>\n",
       "      <td>언어지능 실무</td>\n",
       "    </tr>\n",
       "    <tr>\n",
       "      <th>1</th>\n",
       "      <td>50024396</td>\n",
       "      <td>AI 실전 Workshop</td>\n",
       "    </tr>\n",
       "    <tr>\n",
       "      <th>2</th>\n",
       "      <td>50023897</td>\n",
       "      <td>AI 심화</td>\n",
       "    </tr>\n",
       "    <tr>\n",
       "      <th>3</th>\n",
       "      <td>50023663</td>\n",
       "      <td>[교재보기]빅데이터 분석</td>\n",
       "    </tr>\n",
       "    <tr>\n",
       "      <th>4</th>\n",
       "      <td>77623</td>\n",
       "      <td>김왼손의 미운코딩새끼: 4시간만에 끝내는 파이썬 기초 (전자책 포함)</td>\n",
       "    </tr>\n",
       "    <tr>\n",
       "      <th>5</th>\n",
       "      <td>50024002</td>\n",
       "      <td>[교재보기]AI</td>\n",
       "    </tr>\n",
       "    <tr>\n",
       "      <th>6</th>\n",
       "      <td>50023818</td>\n",
       "      <td>빅데이터 분석 Workshop</td>\n",
       "    </tr>\n",
       "    <tr>\n",
       "      <th>7</th>\n",
       "      <td>50024390</td>\n",
       "      <td>[이러닝]Python 데이터 분석 기초</td>\n",
       "    </tr>\n",
       "    <tr>\n",
       "      <th>8</th>\n",
       "      <td>50023792</td>\n",
       "      <td>[개발언어 Skill-up]Algorithm 개발언어</td>\n",
       "    </tr>\n",
       "    <tr>\n",
       "      <th>9</th>\n",
       "      <td>50024091</td>\n",
       "      <td>[개발언어 Skill-up]빅데이터 분석을 위한 Python</td>\n",
       "    </tr>\n",
       "  </tbody>\n",
       "</table>\n",
       "</div>"
      ],
      "text/plain": [
       "  course_cd                               course_nm\n",
       "0  50023879                                 언어지능 실무\n",
       "1  50024396                          AI 실전 Workshop\n",
       "2  50023897                                   AI 심화\n",
       "3  50023663                           [교재보기]빅데이터 분석\n",
       "4     77623  김왼손의 미운코딩새끼: 4시간만에 끝내는 파이썬 기초 (전자책 포함)\n",
       "5  50024002                                [교재보기]AI\n",
       "6  50023818                        빅데이터 분석 Workshop\n",
       "7  50024390                   [이러닝]Python 데이터 분석 기초\n",
       "8  50023792           [개발언어 Skill-up]Algorithm 개발언어\n",
       "9  50024091       [개발언어 Skill-up]빅데이터 분석을 위한 Python"
      ]
     },
     "execution_count": 50,
     "metadata": {},
     "output_type": "execute_result"
    }
   ],
   "source": [
    "rec_df"
   ]
  },
  {
   "cell_type": "code",
   "execution_count": null,
   "metadata": {},
   "outputs": [],
   "source": []
  }
 ],
 "metadata": {
  "accelerator": "GPU",
  "colab": {
   "collapsed_sections": [],
   "name": "Matrix_Factorization(ALS).ipynb",
   "provenance": []
  },
  "kernelspec": {
   "display_name": "Python 3",
   "language": "python",
   "name": "python3"
  },
  "language_info": {
   "codemirror_mode": {
    "name": "ipython",
    "version": 3
   },
   "file_extension": ".py",
   "mimetype": "text/x-python",
   "name": "python",
   "nbconvert_exporter": "python",
   "pygments_lexer": "ipython3",
   "version": "3.8.5"
  },
  "widgets": {
   "application/vnd.jupyter.widget-state+json": {
    "0cf53af5c18f4d34a3132253b90bae78": {
     "model_module": "@jupyter-widgets/base",
     "model_name": "LayoutModel",
     "state": {
      "_model_module": "@jupyter-widgets/base",
      "_model_module_version": "1.2.0",
      "_model_name": "LayoutModel",
      "_view_count": null,
      "_view_module": "@jupyter-widgets/base",
      "_view_module_version": "1.2.0",
      "_view_name": "LayoutView",
      "align_content": null,
      "align_items": null,
      "align_self": null,
      "border": null,
      "bottom": null,
      "display": null,
      "flex": null,
      "flex_flow": null,
      "grid_area": null,
      "grid_auto_columns": null,
      "grid_auto_flow": null,
      "grid_auto_rows": null,
      "grid_column": null,
      "grid_gap": null,
      "grid_row": null,
      "grid_template_areas": null,
      "grid_template_columns": null,
      "grid_template_rows": null,
      "height": null,
      "justify_content": null,
      "justify_items": null,
      "left": null,
      "margin": null,
      "max_height": null,
      "max_width": null,
      "min_height": null,
      "min_width": null,
      "object_fit": null,
      "object_position": null,
      "order": null,
      "overflow": null,
      "overflow_x": null,
      "overflow_y": null,
      "padding": null,
      "right": null,
      "top": null,
      "visibility": null,
      "width": null
     }
    },
    "0f53d6e36cc14f1983a1b2e453950f66": {
     "model_module": "@jupyter-widgets/controls",
     "model_name": "DescriptionStyleModel",
     "state": {
      "_model_module": "@jupyter-widgets/controls",
      "_model_module_version": "1.5.0",
      "_model_name": "DescriptionStyleModel",
      "_view_count": null,
      "_view_module": "@jupyter-widgets/base",
      "_view_module_version": "1.2.0",
      "_view_name": "StyleView",
      "description_width": ""
     }
    },
    "1b2ae3fe54064be09e55309edf4ebe76": {
     "model_module": "@jupyter-widgets/controls",
     "model_name": "HTMLModel",
     "state": {
      "_dom_classes": [],
      "_model_module": "@jupyter-widgets/controls",
      "_model_module_version": "1.5.0",
      "_model_name": "HTMLModel",
      "_view_count": null,
      "_view_module": "@jupyter-widgets/controls",
      "_view_module_version": "1.5.0",
      "_view_name": "HTMLView",
      "description": "",
      "description_tooltip": null,
      "layout": "IPY_MODEL_5b7d8904f0404cd8a48cfca72ad6815b",
      "placeholder": "​",
      "style": "IPY_MODEL_2444cb6ab6904da7bfc0686e82753628",
      "value": " 100/100 [00:35&lt;00:00,  2.83it/s]"
     }
    },
    "2444cb6ab6904da7bfc0686e82753628": {
     "model_module": "@jupyter-widgets/controls",
     "model_name": "DescriptionStyleModel",
     "state": {
      "_model_module": "@jupyter-widgets/controls",
      "_model_module_version": "1.5.0",
      "_model_name": "DescriptionStyleModel",
      "_view_count": null,
      "_view_module": "@jupyter-widgets/base",
      "_view_module_version": "1.2.0",
      "_view_name": "StyleView",
      "description_width": ""
     }
    },
    "24e97ccaf92342508004dbdd12c3a3fe": {
     "model_module": "@jupyter-widgets/controls",
     "model_name": "HBoxModel",
     "state": {
      "_dom_classes": [],
      "_model_module": "@jupyter-widgets/controls",
      "_model_module_version": "1.5.0",
      "_model_name": "HBoxModel",
      "_view_count": null,
      "_view_module": "@jupyter-widgets/controls",
      "_view_module_version": "1.5.0",
      "_view_name": "HBoxView",
      "box_style": "",
      "children": [
       "IPY_MODEL_67366cf8e2c9476b92803cd7b3af1549",
       "IPY_MODEL_1b2ae3fe54064be09e55309edf4ebe76"
      ],
      "layout": "IPY_MODEL_2e204514298d4824bb31cb4a18a6a3cf"
     }
    },
    "29a2da92c4f94d4fa1d8f3f3e91373f5": {
     "model_module": "@jupyter-widgets/base",
     "model_name": "LayoutModel",
     "state": {
      "_model_module": "@jupyter-widgets/base",
      "_model_module_version": "1.2.0",
      "_model_name": "LayoutModel",
      "_view_count": null,
      "_view_module": "@jupyter-widgets/base",
      "_view_module_version": "1.2.0",
      "_view_name": "LayoutView",
      "align_content": null,
      "align_items": null,
      "align_self": null,
      "border": null,
      "bottom": null,
      "display": null,
      "flex": null,
      "flex_flow": null,
      "grid_area": null,
      "grid_auto_columns": null,
      "grid_auto_flow": null,
      "grid_auto_rows": null,
      "grid_column": null,
      "grid_gap": null,
      "grid_row": null,
      "grid_template_areas": null,
      "grid_template_columns": null,
      "grid_template_rows": null,
      "height": null,
      "justify_content": null,
      "justify_items": null,
      "left": null,
      "margin": null,
      "max_height": null,
      "max_width": null,
      "min_height": null,
      "min_width": null,
      "object_fit": null,
      "object_position": null,
      "order": null,
      "overflow": null,
      "overflow_x": null,
      "overflow_y": null,
      "padding": null,
      "right": null,
      "top": null,
      "visibility": null,
      "width": null
     }
    },
    "2db7b7a16dfb4dc6b431553e568f1324": {
     "model_module": "@jupyter-widgets/base",
     "model_name": "LayoutModel",
     "state": {
      "_model_module": "@jupyter-widgets/base",
      "_model_module_version": "1.2.0",
      "_model_name": "LayoutModel",
      "_view_count": null,
      "_view_module": "@jupyter-widgets/base",
      "_view_module_version": "1.2.0",
      "_view_name": "LayoutView",
      "align_content": null,
      "align_items": null,
      "align_self": null,
      "border": null,
      "bottom": null,
      "display": null,
      "flex": null,
      "flex_flow": null,
      "grid_area": null,
      "grid_auto_columns": null,
      "grid_auto_flow": null,
      "grid_auto_rows": null,
      "grid_column": null,
      "grid_gap": null,
      "grid_row": null,
      "grid_template_areas": null,
      "grid_template_columns": null,
      "grid_template_rows": null,
      "height": null,
      "justify_content": null,
      "justify_items": null,
      "left": null,
      "margin": null,
      "max_height": null,
      "max_width": null,
      "min_height": null,
      "min_width": null,
      "object_fit": null,
      "object_position": null,
      "order": null,
      "overflow": null,
      "overflow_x": null,
      "overflow_y": null,
      "padding": null,
      "right": null,
      "top": null,
      "visibility": null,
      "width": null
     }
    },
    "2e204514298d4824bb31cb4a18a6a3cf": {
     "model_module": "@jupyter-widgets/base",
     "model_name": "LayoutModel",
     "state": {
      "_model_module": "@jupyter-widgets/base",
      "_model_module_version": "1.2.0",
      "_model_name": "LayoutModel",
      "_view_count": null,
      "_view_module": "@jupyter-widgets/base",
      "_view_module_version": "1.2.0",
      "_view_name": "LayoutView",
      "align_content": null,
      "align_items": null,
      "align_self": null,
      "border": null,
      "bottom": null,
      "display": null,
      "flex": null,
      "flex_flow": null,
      "grid_area": null,
      "grid_auto_columns": null,
      "grid_auto_flow": null,
      "grid_auto_rows": null,
      "grid_column": null,
      "grid_gap": null,
      "grid_row": null,
      "grid_template_areas": null,
      "grid_template_columns": null,
      "grid_template_rows": null,
      "height": null,
      "justify_content": null,
      "justify_items": null,
      "left": null,
      "margin": null,
      "max_height": null,
      "max_width": null,
      "min_height": null,
      "min_width": null,
      "object_fit": null,
      "object_position": null,
      "order": null,
      "overflow": null,
      "overflow_x": null,
      "overflow_y": null,
      "padding": null,
      "right": null,
      "top": null,
      "visibility": null,
      "width": null
     }
    },
    "3277e4677bb2416ea0fd2552315fad7a": {
     "model_module": "@jupyter-widgets/controls",
     "model_name": "HBoxModel",
     "state": {
      "_dom_classes": [],
      "_model_module": "@jupyter-widgets/controls",
      "_model_module_version": "1.5.0",
      "_model_name": "HBoxModel",
      "_view_count": null,
      "_view_module": "@jupyter-widgets/controls",
      "_view_module_version": "1.5.0",
      "_view_name": "HBoxView",
      "box_style": "",
      "children": [
       "IPY_MODEL_5a83b44297a04a94adfd7feb4aebfb75",
       "IPY_MODEL_6b71b0a513064e23a553c3f3c8e745de"
      ],
      "layout": "IPY_MODEL_7e511b6264534cbcba6af9b4470e9625"
     }
    },
    "59b182e36f504fba80c695f3df4472e8": {
     "model_module": "@jupyter-widgets/controls",
     "model_name": "ProgressStyleModel",
     "state": {
      "_model_module": "@jupyter-widgets/controls",
      "_model_module_version": "1.5.0",
      "_model_name": "ProgressStyleModel",
      "_view_count": null,
      "_view_module": "@jupyter-widgets/base",
      "_view_module_version": "1.2.0",
      "_view_name": "StyleView",
      "bar_color": null,
      "description_width": "initial"
     }
    },
    "5a83b44297a04a94adfd7feb4aebfb75": {
     "model_module": "@jupyter-widgets/controls",
     "model_name": "FloatProgressModel",
     "state": {
      "_dom_classes": [],
      "_model_module": "@jupyter-widgets/controls",
      "_model_module_version": "1.5.0",
      "_model_name": "FloatProgressModel",
      "_view_count": null,
      "_view_module": "@jupyter-widgets/controls",
      "_view_module_version": "1.5.0",
      "_view_name": "ProgressView",
      "bar_style": "success",
      "description": "100%",
      "description_tooltip": null,
      "layout": "IPY_MODEL_0cf53af5c18f4d34a3132253b90bae78",
      "max": 5854,
      "min": 0,
      "orientation": "horizontal",
      "style": "IPY_MODEL_a6dd5e6a70114b47be0600df7b243763",
      "value": 5854
     }
    },
    "5b7d8904f0404cd8a48cfca72ad6815b": {
     "model_module": "@jupyter-widgets/base",
     "model_name": "LayoutModel",
     "state": {
      "_model_module": "@jupyter-widgets/base",
      "_model_module_version": "1.2.0",
      "_model_name": "LayoutModel",
      "_view_count": null,
      "_view_module": "@jupyter-widgets/base",
      "_view_module_version": "1.2.0",
      "_view_name": "LayoutView",
      "align_content": null,
      "align_items": null,
      "align_self": null,
      "border": null,
      "bottom": null,
      "display": null,
      "flex": null,
      "flex_flow": null,
      "grid_area": null,
      "grid_auto_columns": null,
      "grid_auto_flow": null,
      "grid_auto_rows": null,
      "grid_column": null,
      "grid_gap": null,
      "grid_row": null,
      "grid_template_areas": null,
      "grid_template_columns": null,
      "grid_template_rows": null,
      "height": null,
      "justify_content": null,
      "justify_items": null,
      "left": null,
      "margin": null,
      "max_height": null,
      "max_width": null,
      "min_height": null,
      "min_width": null,
      "object_fit": null,
      "object_position": null,
      "order": null,
      "overflow": null,
      "overflow_x": null,
      "overflow_y": null,
      "padding": null,
      "right": null,
      "top": null,
      "visibility": null,
      "width": null
     }
    },
    "67366cf8e2c9476b92803cd7b3af1549": {
     "model_module": "@jupyter-widgets/controls",
     "model_name": "FloatProgressModel",
     "state": {
      "_dom_classes": [],
      "_model_module": "@jupyter-widgets/controls",
      "_model_module_version": "1.5.0",
      "_model_name": "FloatProgressModel",
      "_view_count": null,
      "_view_module": "@jupyter-widgets/controls",
      "_view_module_version": "1.5.0",
      "_view_name": "ProgressView",
      "bar_style": "success",
      "description": "100%",
      "description_tooltip": null,
      "layout": "IPY_MODEL_29a2da92c4f94d4fa1d8f3f3e91373f5",
      "max": 100,
      "min": 0,
      "orientation": "horizontal",
      "style": "IPY_MODEL_59b182e36f504fba80c695f3df4472e8",
      "value": 100
     }
    },
    "6b71b0a513064e23a553c3f3c8e745de": {
     "model_module": "@jupyter-widgets/controls",
     "model_name": "HTMLModel",
     "state": {
      "_dom_classes": [],
      "_model_module": "@jupyter-widgets/controls",
      "_model_module_version": "1.5.0",
      "_model_name": "HTMLModel",
      "_view_count": null,
      "_view_module": "@jupyter-widgets/controls",
      "_view_module_version": "1.5.0",
      "_view_name": "HTMLView",
      "description": "",
      "description_tooltip": null,
      "layout": "IPY_MODEL_2db7b7a16dfb4dc6b431553e568f1324",
      "placeholder": "​",
      "style": "IPY_MODEL_0f53d6e36cc14f1983a1b2e453950f66",
      "value": " 5854/5854 [00:59&lt;00:00, 97.61it/s]"
     }
    },
    "7e511b6264534cbcba6af9b4470e9625": {
     "model_module": "@jupyter-widgets/base",
     "model_name": "LayoutModel",
     "state": {
      "_model_module": "@jupyter-widgets/base",
      "_model_module_version": "1.2.0",
      "_model_name": "LayoutModel",
      "_view_count": null,
      "_view_module": "@jupyter-widgets/base",
      "_view_module_version": "1.2.0",
      "_view_name": "LayoutView",
      "align_content": null,
      "align_items": null,
      "align_self": null,
      "border": null,
      "bottom": null,
      "display": null,
      "flex": null,
      "flex_flow": null,
      "grid_area": null,
      "grid_auto_columns": null,
      "grid_auto_flow": null,
      "grid_auto_rows": null,
      "grid_column": null,
      "grid_gap": null,
      "grid_row": null,
      "grid_template_areas": null,
      "grid_template_columns": null,
      "grid_template_rows": null,
      "height": null,
      "justify_content": null,
      "justify_items": null,
      "left": null,
      "margin": null,
      "max_height": null,
      "max_width": null,
      "min_height": null,
      "min_width": null,
      "object_fit": null,
      "object_position": null,
      "order": null,
      "overflow": null,
      "overflow_x": null,
      "overflow_y": null,
      "padding": null,
      "right": null,
      "top": null,
      "visibility": null,
      "width": null
     }
    },
    "a6dd5e6a70114b47be0600df7b243763": {
     "model_module": "@jupyter-widgets/controls",
     "model_name": "ProgressStyleModel",
     "state": {
      "_model_module": "@jupyter-widgets/controls",
      "_model_module_version": "1.5.0",
      "_model_name": "ProgressStyleModel",
      "_view_count": null,
      "_view_module": "@jupyter-widgets/base",
      "_view_module_version": "1.2.0",
      "_view_name": "StyleView",
      "bar_color": null,
      "description_width": "initial"
     }
    }
   }
  }
 },
 "nbformat": 4,
 "nbformat_minor": 1
}
